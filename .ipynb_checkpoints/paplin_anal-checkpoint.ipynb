{
 "cells": [
  {
   "cell_type": "markdown",
   "metadata": {},
   "source": [
    "# ANALYSIS OF THE SOCIO-DEMOGRAPHIC XTICS V PAPLIN  PROJECT"
   ]
  },
  {
   "cell_type": "code",
   "execution_count": 1,
   "metadata": {},
   "outputs": [],
   "source": [
    "# Importing the necessary dependencies\n",
    "import pandas as pd\n",
    "import numpy as np\n",
    "import matplotlib.pyplot as plt\n",
    "import seaborn as sb\n",
    "import statsmodels.api as sm\n",
    "# Embed plots, if any, inline\n",
    "%matplotlib inline\n",
    "# Set style for plots\n",
    "sb.set_style(\"darkgrid\")"
   ]
  },
  {
   "cell_type": "code",
   "execution_count": 21,
   "metadata": {},
   "outputs": [],
   "source": [
    "# Loading the dataset\n",
    "rough = pd.read_excel(\"research_data_amos.xlsx\")"
   ]
  },
  {
   "cell_type": "code",
   "execution_count": 22,
   "metadata": {
    "scrolled": false
   },
   "outputs": [
    {
     "data": {
      "text/html": [
       "<div>\n",
       "<style scoped>\n",
       "    .dataframe tbody tr th:only-of-type {\n",
       "        vertical-align: middle;\n",
       "    }\n",
       "\n",
       "    .dataframe tbody tr th {\n",
       "        vertical-align: top;\n",
       "    }\n",
       "\n",
       "    .dataframe thead th {\n",
       "        text-align: right;\n",
       "    }\n",
       "</style>\n",
       "<table border=\"1\" class=\"dataframe\">\n",
       "  <thead>\n",
       "    <tr style=\"text-align: right;\">\n",
       "      <th></th>\n",
       "      <th>HHhead age</th>\n",
       "      <th>Living_With</th>\n",
       "      <th>Pupil_Pastime</th>\n",
       "      <th>Religion</th>\n",
       "      <th>Age</th>\n",
       "      <th>HHhead_Occupation</th>\n",
       "      <th>HHhead_education_level</th>\n",
       "      <th>Sex</th>\n",
       "      <th>Household_size</th>\n",
       "      <th>Literacy</th>\n",
       "      <th>Numeracy</th>\n",
       "    </tr>\n",
       "  </thead>\n",
       "  <tbody>\n",
       "    <tr>\n",
       "      <th>0</th>\n",
       "      <td>45</td>\n",
       "      <td>Parent</td>\n",
       "      <td>Reading</td>\n",
       "      <td>Islam</td>\n",
       "      <td>11</td>\n",
       "      <td>Civil Servant</td>\n",
       "      <td>Secondary</td>\n",
       "      <td>F</td>\n",
       "      <td>7</td>\n",
       "      <td>79</td>\n",
       "      <td>78</td>\n",
       "    </tr>\n",
       "    <tr>\n",
       "      <th>1</th>\n",
       "      <td>50</td>\n",
       "      <td>Guardian</td>\n",
       "      <td>Reading</td>\n",
       "      <td>Islam</td>\n",
       "      <td>10</td>\n",
       "      <td>Civil Servant</td>\n",
       "      <td>Secondary</td>\n",
       "      <td>F</td>\n",
       "      <td>6</td>\n",
       "      <td>88</td>\n",
       "      <td>79</td>\n",
       "    </tr>\n",
       "    <tr>\n",
       "      <th>2</th>\n",
       "      <td>65</td>\n",
       "      <td>Parent</td>\n",
       "      <td>Reading</td>\n",
       "      <td>Islam</td>\n",
       "      <td>9</td>\n",
       "      <td>Artisan</td>\n",
       "      <td>Primary</td>\n",
       "      <td>F</td>\n",
       "      <td>12</td>\n",
       "      <td>75</td>\n",
       "      <td>64</td>\n",
       "    </tr>\n",
       "    <tr>\n",
       "      <th>3</th>\n",
       "      <td>39</td>\n",
       "      <td>Guardian</td>\n",
       "      <td>Reading</td>\n",
       "      <td>Christianity</td>\n",
       "      <td>14</td>\n",
       "      <td>Civil Servant</td>\n",
       "      <td>Secondary</td>\n",
       "      <td>F</td>\n",
       "      <td>8</td>\n",
       "      <td>82</td>\n",
       "      <td>88</td>\n",
       "    </tr>\n",
       "    <tr>\n",
       "      <th>4</th>\n",
       "      <td>40</td>\n",
       "      <td>Guardian</td>\n",
       "      <td>Reading</td>\n",
       "      <td>Christianity</td>\n",
       "      <td>15</td>\n",
       "      <td>Trader</td>\n",
       "      <td>Tertiary</td>\n",
       "      <td>F</td>\n",
       "      <td>8</td>\n",
       "      <td>68</td>\n",
       "      <td>87</td>\n",
       "    </tr>\n",
       "  </tbody>\n",
       "</table>\n",
       "</div>"
      ],
      "text/plain": [
       "   HHhead age Living_With Pupil_Pastime      Religion  Age HHhead_Occupation  \\\n",
       "0          45      Parent       Reading         Islam   11     Civil Servant   \n",
       "1          50    Guardian       Reading         Islam   10     Civil Servant   \n",
       "2          65      Parent       Reading         Islam    9           Artisan   \n",
       "3          39    Guardian       Reading  Christianity   14     Civil Servant   \n",
       "4          40    Guardian       Reading  Christianity   15            Trader   \n",
       "\n",
       "  HHhead_education_level Sex  Household_size  Literacy  Numeracy  \n",
       "0              Secondary   F               7        79        78  \n",
       "1              Secondary   F               6        88        79  \n",
       "2                Primary   F              12        75        64  \n",
       "3              Secondary   F               8        82        88  \n",
       "4               Tertiary   F               8        68        87  "
      ]
     },
     "execution_count": 22,
     "metadata": {},
     "output_type": "execute_result"
    }
   ],
   "source": [
    "rough.head()"
   ]
  },
  {
   "cell_type": "markdown",
   "metadata": {},
   "source": [
    "### Checking the correlation matrices and the target correlations"
   ]
  },
  {
   "cell_type": "code",
   "execution_count": 23,
   "metadata": {},
   "outputs": [
    {
     "data": {
      "text/html": [
       "<div>\n",
       "<style scoped>\n",
       "    .dataframe tbody tr th:only-of-type {\n",
       "        vertical-align: middle;\n",
       "    }\n",
       "\n",
       "    .dataframe tbody tr th {\n",
       "        vertical-align: top;\n",
       "    }\n",
       "\n",
       "    .dataframe thead th {\n",
       "        text-align: right;\n",
       "    }\n",
       "</style>\n",
       "<table border=\"1\" class=\"dataframe\">\n",
       "  <thead>\n",
       "    <tr style=\"text-align: right;\">\n",
       "      <th></th>\n",
       "      <th>HHhead age</th>\n",
       "      <th>Age</th>\n",
       "      <th>Household_size</th>\n",
       "      <th>Literacy</th>\n",
       "      <th>Numeracy</th>\n",
       "    </tr>\n",
       "  </thead>\n",
       "  <tbody>\n",
       "    <tr>\n",
       "      <th>HHhead age</th>\n",
       "      <td>1.000000</td>\n",
       "      <td>-0.341512</td>\n",
       "      <td>0.305003</td>\n",
       "      <td>-0.487226</td>\n",
       "      <td>-0.586284</td>\n",
       "    </tr>\n",
       "    <tr>\n",
       "      <th>Age</th>\n",
       "      <td>-0.341512</td>\n",
       "      <td>1.000000</td>\n",
       "      <td>-0.346637</td>\n",
       "      <td>0.341407</td>\n",
       "      <td>0.488771</td>\n",
       "    </tr>\n",
       "    <tr>\n",
       "      <th>Household_size</th>\n",
       "      <td>0.305003</td>\n",
       "      <td>-0.346637</td>\n",
       "      <td>1.000000</td>\n",
       "      <td>-0.720953</td>\n",
       "      <td>-0.771588</td>\n",
       "    </tr>\n",
       "    <tr>\n",
       "      <th>Literacy</th>\n",
       "      <td>-0.487226</td>\n",
       "      <td>0.341407</td>\n",
       "      <td>-0.720953</td>\n",
       "      <td>1.000000</td>\n",
       "      <td>0.772338</td>\n",
       "    </tr>\n",
       "    <tr>\n",
       "      <th>Numeracy</th>\n",
       "      <td>-0.586284</td>\n",
       "      <td>0.488771</td>\n",
       "      <td>-0.771588</td>\n",
       "      <td>0.772338</td>\n",
       "      <td>1.000000</td>\n",
       "    </tr>\n",
       "  </tbody>\n",
       "</table>\n",
       "</div>"
      ],
      "text/plain": [
       "                HHhead age       Age  Household_size  Literacy  Numeracy\n",
       "HHhead age        1.000000 -0.341512        0.305003 -0.487226 -0.586284\n",
       "Age              -0.341512  1.000000       -0.346637  0.341407  0.488771\n",
       "Household_size    0.305003 -0.346637        1.000000 -0.720953 -0.771588\n",
       "Literacy         -0.487226  0.341407       -0.720953  1.000000  0.772338\n",
       "Numeracy         -0.586284  0.488771       -0.771588  0.772338  1.000000"
      ]
     },
     "execution_count": 23,
     "metadata": {},
     "output_type": "execute_result"
    }
   ],
   "source": [
    "rough.corr()"
   ]
  },
  {
   "cell_type": "code",
   "execution_count": 24,
   "metadata": {},
   "outputs": [
    {
     "data": {
      "text/plain": [
       "HHhead age       -0.487226\n",
       "Age               0.341407\n",
       "Household_size   -0.720953\n",
       "Literacy          1.000000\n",
       "Numeracy          0.772338\n",
       "dtype: float64"
      ]
     },
     "execution_count": 24,
     "metadata": {},
     "output_type": "execute_result"
    }
   ],
   "source": [
    "rough.corrwith(rough.Literacy)"
   ]
  },
  {
   "cell_type": "code",
   "execution_count": 25,
   "metadata": {},
   "outputs": [
    {
     "data": {
      "text/plain": [
       "HHhead age       -0.586284\n",
       "Age               0.488771\n",
       "Household_size   -0.771588\n",
       "Literacy          0.772338\n",
       "Numeracy          1.000000\n",
       "dtype: float64"
      ]
     },
     "execution_count": 25,
     "metadata": {},
     "output_type": "execute_result"
    }
   ],
   "source": [
    "rough.corrwith(rough.Numeracy)"
   ]
  },
  {
   "cell_type": "code",
   "execution_count": 26,
   "metadata": {},
   "outputs": [],
   "source": [
    "# Creating a sample of the rough df\n",
    "np.random.seed(18)\n",
    "df = rough.sample(550, replace=True)"
   ]
  },
  {
   "cell_type": "code",
   "execution_count": 27,
   "metadata": {},
   "outputs": [
    {
     "data": {
      "text/html": [
       "<div>\n",
       "<style scoped>\n",
       "    .dataframe tbody tr th:only-of-type {\n",
       "        vertical-align: middle;\n",
       "    }\n",
       "\n",
       "    .dataframe tbody tr th {\n",
       "        vertical-align: top;\n",
       "    }\n",
       "\n",
       "    .dataframe thead th {\n",
       "        text-align: right;\n",
       "    }\n",
       "</style>\n",
       "<table border=\"1\" class=\"dataframe\">\n",
       "  <thead>\n",
       "    <tr style=\"text-align: right;\">\n",
       "      <th></th>\n",
       "      <th>HHhead age</th>\n",
       "      <th>Age</th>\n",
       "      <th>Household_size</th>\n",
       "      <th>Literacy</th>\n",
       "      <th>Numeracy</th>\n",
       "    </tr>\n",
       "  </thead>\n",
       "  <tbody>\n",
       "    <tr>\n",
       "      <th>HHhead age</th>\n",
       "      <td>1.000000</td>\n",
       "      <td>-0.280572</td>\n",
       "      <td>0.308617</td>\n",
       "      <td>-0.472067</td>\n",
       "      <td>-0.569543</td>\n",
       "    </tr>\n",
       "    <tr>\n",
       "      <th>Age</th>\n",
       "      <td>-0.280572</td>\n",
       "      <td>1.000000</td>\n",
       "      <td>-0.330682</td>\n",
       "      <td>0.313594</td>\n",
       "      <td>0.453207</td>\n",
       "    </tr>\n",
       "    <tr>\n",
       "      <th>Household_size</th>\n",
       "      <td>0.308617</td>\n",
       "      <td>-0.330682</td>\n",
       "      <td>1.000000</td>\n",
       "      <td>-0.749488</td>\n",
       "      <td>-0.785743</td>\n",
       "    </tr>\n",
       "    <tr>\n",
       "      <th>Literacy</th>\n",
       "      <td>-0.472067</td>\n",
       "      <td>0.313594</td>\n",
       "      <td>-0.749488</td>\n",
       "      <td>1.000000</td>\n",
       "      <td>0.786430</td>\n",
       "    </tr>\n",
       "    <tr>\n",
       "      <th>Numeracy</th>\n",
       "      <td>-0.569543</td>\n",
       "      <td>0.453207</td>\n",
       "      <td>-0.785743</td>\n",
       "      <td>0.786430</td>\n",
       "      <td>1.000000</td>\n",
       "    </tr>\n",
       "  </tbody>\n",
       "</table>\n",
       "</div>"
      ],
      "text/plain": [
       "                HHhead age       Age  Household_size  Literacy  Numeracy\n",
       "HHhead age        1.000000 -0.280572        0.308617 -0.472067 -0.569543\n",
       "Age              -0.280572  1.000000       -0.330682  0.313594  0.453207\n",
       "Household_size    0.308617 -0.330682        1.000000 -0.749488 -0.785743\n",
       "Literacy         -0.472067  0.313594       -0.749488  1.000000  0.786430\n",
       "Numeracy         -0.569543  0.453207       -0.785743  0.786430  1.000000"
      ]
     },
     "execution_count": 27,
     "metadata": {},
     "output_type": "execute_result"
    }
   ],
   "source": [
    "df.corr()"
   ]
  },
  {
   "cell_type": "code",
   "execution_count": 28,
   "metadata": {},
   "outputs": [],
   "source": [
    "# Saving the df\n",
    "df.to_excel(\"paplin.xlsx\", index=False)"
   ]
  },
  {
   "cell_type": "code",
   "execution_count": 2,
   "metadata": {},
   "outputs": [],
   "source": [
    "df = pd.read_excel(\"paplin.xlsx\")"
   ]
  },
  {
   "cell_type": "code",
   "execution_count": 3,
   "metadata": {},
   "outputs": [
    {
     "data": {
      "text/plain": [
       "Index(['HHhead age', 'Living_With', 'Pupil_Pastime', 'Religion', 'Age',\n",
       "       'HHhead_Occupation', 'HHhead_education_level', 'Sex', 'Household_size',\n",
       "       'Literacy', 'Numeracy'],\n",
       "      dtype='object')"
      ]
     },
     "execution_count": 3,
     "metadata": {},
     "output_type": "execute_result"
    }
   ],
   "source": [
    "df.columns"
   ]
  },
  {
   "cell_type": "markdown",
   "metadata": {},
   "source": [
    "## Descriptive Statistics including plots"
   ]
  },
  {
   "cell_type": "code",
   "execution_count": 4,
   "metadata": {},
   "outputs": [
    {
     "data": {
      "text/plain": [
       "8     25.818182\n",
       "7     20.545455\n",
       "14    13.636364\n",
       "10     9.818182\n",
       "13     8.181818\n",
       "9      7.818182\n",
       "15     6.363636\n",
       "12     3.272727\n",
       "6      2.545455\n",
       "11     2.000000\n",
       "Name: Age, dtype: float64"
      ]
     },
     "execution_count": 4,
     "metadata": {},
     "output_type": "execute_result"
    }
   ],
   "source": [
    "(df.Age.value_counts()/550)*100"
   ]
  },
  {
   "cell_type": "code",
   "execution_count": 30,
   "metadata": {
    "scrolled": true
   },
   "outputs": [
    {
     "data": {
      "text/plain": [
       "count    550.000000\n",
       "mean       9.881818\n",
       "std        2.833355\n",
       "min        6.000000\n",
       "25%        8.000000\n",
       "50%        9.000000\n",
       "75%       13.000000\n",
       "max       15.000000\n",
       "Name: Age, dtype: float64"
      ]
     },
     "execution_count": 30,
     "metadata": {},
     "output_type": "execute_result"
    }
   ],
   "source": [
    "df.Age.describe()"
   ]
  },
  {
   "cell_type": "code",
   "execution_count": 32,
   "metadata": {
    "scrolled": false
   },
   "outputs": [
    {
     "data": {
      "text/plain": [
       "Reading        44.545455\n",
       "Footballing    24.545455\n",
       "Singing        13.454545\n",
       "Movies         10.909091\n",
       "Dancing         6.545455\n",
       "Name: Pupil_Pastime, dtype: float64"
      ]
     },
     "execution_count": 32,
     "metadata": {},
     "output_type": "execute_result"
    }
   ],
   "source": [
    "(df.Pupil_Pastime.value_counts()/550)*100"
   ]
  },
  {
   "cell_type": "code",
   "execution_count": 72,
   "metadata": {},
   "outputs": [
    {
     "data": {
      "text/plain": [
       "Islam           66.545455\n",
       "Christianity    33.454545\n",
       "Name: Religion, dtype: float64"
      ]
     },
     "execution_count": 72,
     "metadata": {},
     "output_type": "execute_result"
    }
   ],
   "source": [
    "(df.Religion.value_counts()/550)*100"
   ]
  },
  {
   "cell_type": "code",
   "execution_count": 74,
   "metadata": {},
   "outputs": [
    {
     "data": {
      "text/plain": [
       "F    63.818182\n",
       "M    36.181818\n",
       "Name: Sex, dtype: float64"
      ]
     },
     "execution_count": 74,
     "metadata": {},
     "output_type": "execute_result"
    }
   ],
   "source": [
    "(df.Sex.value_counts()/550)*100"
   ]
  },
  {
   "cell_type": "code",
   "execution_count": 5,
   "metadata": {},
   "outputs": [
    {
     "data": {
      "text/plain": [
       "Parent      277\n",
       "Guardian    273\n",
       "Name: Living_With, dtype: int64"
      ]
     },
     "execution_count": 5,
     "metadata": {},
     "output_type": "execute_result"
    }
   ],
   "source": [
    "df.Living_With.value_counts()"
   ]
  },
  {
   "cell_type": "code",
   "execution_count": 10,
   "metadata": {
    "scrolled": true
   },
   "outputs": [
    {
     "data": {
      "text/plain": [
       "count    550.000000\n",
       "mean      10.607273\n",
       "std        5.228681\n",
       "min        5.000000\n",
       "25%        6.000000\n",
       "50%        9.000000\n",
       "75%       13.000000\n",
       "max       28.000000\n",
       "Name: Household_size, dtype: float64"
      ]
     },
     "execution_count": 10,
     "metadata": {},
     "output_type": "execute_result"
    }
   ],
   "source": [
    "df.Household_size.describe()"
   ]
  },
  {
   "cell_type": "code",
   "execution_count": 13,
   "metadata": {},
   "outputs": [],
   "source": [
    "bins_levels = [5,6,9,13,28]\n",
    "bins_labels = [\"small\", \"moderate\", \"high\", \"very_high\"]\n",
    "df[\"Household_level\"] = pd.cut(df[\"Household_size\"],bins=bins_levels, labels=bins_labels )"
   ]
  },
  {
   "cell_type": "code",
   "execution_count": 14,
   "metadata": {},
   "outputs": [
    {
     "data": {
      "text/html": [
       "<div>\n",
       "<style scoped>\n",
       "    .dataframe tbody tr th:only-of-type {\n",
       "        vertical-align: middle;\n",
       "    }\n",
       "\n",
       "    .dataframe tbody tr th {\n",
       "        vertical-align: top;\n",
       "    }\n",
       "\n",
       "    .dataframe thead th {\n",
       "        text-align: right;\n",
       "    }\n",
       "</style>\n",
       "<table border=\"1\" class=\"dataframe\">\n",
       "  <thead>\n",
       "    <tr style=\"text-align: right;\">\n",
       "      <th></th>\n",
       "      <th>HHhead age</th>\n",
       "      <th>Living_With</th>\n",
       "      <th>Pupil_Pastime</th>\n",
       "      <th>Religion</th>\n",
       "      <th>Age</th>\n",
       "      <th>HHhead_Occupation</th>\n",
       "      <th>HHhead_education_level</th>\n",
       "      <th>Sex</th>\n",
       "      <th>Household_size</th>\n",
       "      <th>Literacy</th>\n",
       "      <th>Numeracy</th>\n",
       "      <th>Household_level</th>\n",
       "    </tr>\n",
       "  </thead>\n",
       "  <tbody>\n",
       "    <tr>\n",
       "      <th>0</th>\n",
       "      <td>45</td>\n",
       "      <td>Parent</td>\n",
       "      <td>Reading</td>\n",
       "      <td>Christianity</td>\n",
       "      <td>9</td>\n",
       "      <td>Civil Servant</td>\n",
       "      <td>Tertiary</td>\n",
       "      <td>M</td>\n",
       "      <td>9</td>\n",
       "      <td>59</td>\n",
       "      <td>80</td>\n",
       "      <td>moderate</td>\n",
       "    </tr>\n",
       "    <tr>\n",
       "      <th>1</th>\n",
       "      <td>70</td>\n",
       "      <td>Parent</td>\n",
       "      <td>Footballing</td>\n",
       "      <td>Christianity</td>\n",
       "      <td>10</td>\n",
       "      <td>Artisan</td>\n",
       "      <td>Primary</td>\n",
       "      <td>M</td>\n",
       "      <td>6</td>\n",
       "      <td>57</td>\n",
       "      <td>58</td>\n",
       "      <td>small</td>\n",
       "    </tr>\n",
       "    <tr>\n",
       "      <th>2</th>\n",
       "      <td>65</td>\n",
       "      <td>Parent</td>\n",
       "      <td>Reading</td>\n",
       "      <td>Islam</td>\n",
       "      <td>9</td>\n",
       "      <td>Artisan</td>\n",
       "      <td>Primary</td>\n",
       "      <td>F</td>\n",
       "      <td>12</td>\n",
       "      <td>75</td>\n",
       "      <td>64</td>\n",
       "      <td>high</td>\n",
       "    </tr>\n",
       "    <tr>\n",
       "      <th>3</th>\n",
       "      <td>40</td>\n",
       "      <td>Parent</td>\n",
       "      <td>Dancing</td>\n",
       "      <td>Islam</td>\n",
       "      <td>10</td>\n",
       "      <td>Private Employee</td>\n",
       "      <td>Secondary</td>\n",
       "      <td>F</td>\n",
       "      <td>6</td>\n",
       "      <td>71</td>\n",
       "      <td>62</td>\n",
       "      <td>small</td>\n",
       "    </tr>\n",
       "    <tr>\n",
       "      <th>4</th>\n",
       "      <td>62</td>\n",
       "      <td>Guardian</td>\n",
       "      <td>Movies</td>\n",
       "      <td>Christianity</td>\n",
       "      <td>13</td>\n",
       "      <td>Artisan</td>\n",
       "      <td>Primary</td>\n",
       "      <td>F</td>\n",
       "      <td>6</td>\n",
       "      <td>62</td>\n",
       "      <td>69</td>\n",
       "      <td>small</td>\n",
       "    </tr>\n",
       "  </tbody>\n",
       "</table>\n",
       "</div>"
      ],
      "text/plain": [
       "   HHhead age Living_With Pupil_Pastime      Religion  Age HHhead_Occupation  \\\n",
       "0          45      Parent       Reading  Christianity    9     Civil Servant   \n",
       "1          70      Parent   Footballing  Christianity   10           Artisan   \n",
       "2          65      Parent       Reading         Islam    9           Artisan   \n",
       "3          40      Parent       Dancing         Islam   10  Private Employee   \n",
       "4          62    Guardian        Movies  Christianity   13           Artisan   \n",
       "\n",
       "  HHhead_education_level Sex  Household_size  Literacy  Numeracy  \\\n",
       "0               Tertiary   M               9        59        80   \n",
       "1                Primary   M               6        57        58   \n",
       "2                Primary   F              12        75        64   \n",
       "3              Secondary   F               6        71        62   \n",
       "4                Primary   F               6        62        69   \n",
       "\n",
       "  Household_level  \n",
       "0        moderate  \n",
       "1           small  \n",
       "2            high  \n",
       "3           small  \n",
       "4           small  "
      ]
     },
     "execution_count": 14,
     "metadata": {},
     "output_type": "execute_result"
    }
   ],
   "source": [
    "df.head()"
   ]
  },
  {
   "cell_type": "code",
   "execution_count": 22,
   "metadata": {},
   "outputs": [
    {
     "data": {
      "text/plain": [
       "<Figure size 576x576 with 0 Axes>"
      ]
     },
     "metadata": {},
     "output_type": "display_data"
    },
    {
     "data": {
      "image/png": "[encoded data removed]",
      "text/plain": [
       "<Figure size 576x432 with 1 Axes>"
      ]
     },
     "metadata": {},
     "output_type": "display_data"
    }
   ],
   "source": [
    "\n",
    "plt.figure(figsize=(8,8))\n",
    "pd.crosstab(df.Living_With, df.Household_level).plot(kind=\"bar\", figsize=(8,6))\n",
    "plt.title(\"Bar chart representing the Household level and Pupil abode\")\n",
    "plt.ylabel(\"Number of Households\")\n",
    "plt.xticks(rotation = 360)\n",
    "plt.savefig(\"level_pup.png\");"
   ]
  },
  {
   "cell_type": "code",
   "execution_count": 25,
   "metadata": {},
   "outputs": [
    {
     "data": {
      "image/png": "[encoded data removed]",
      "text/plain": [
       "<Figure size 576x432 with 1 Axes>"
      ]
     },
     "metadata": {},
     "output_type": "display_data"
    }
   ],
   "source": [
    "\n",
    "plt.figure(figsize=(8,6))\n",
    "sb.barplot(data=df, y=\"Household_size\", x=\"Household_level\", hue=\"Living_With\")\n",
    "plt.title(\"Bar chart representing the Household size and Pupil abode\")\n",
    "plt.ylabel(\"Number of Households\")\n",
    "plt.xticks(rotation = 360)\n",
    "plt.savefig(\"size_pup.png\");"
   ]
  },
  {
   "cell_type": "code",
   "execution_count": 18,
   "metadata": {},
   "outputs": [
    {
     "data": {
      "text/plain": [
       "<matplotlib.axes._subplots.AxesSubplot at 0x2608449b648>"
      ]
     },
     "execution_count": 18,
     "metadata": {},
     "output_type": "execute_result"
    },
    {
     "data": {
      "image/png": "[encoded data removed]",
      "text/plain": [
       "<Figure size 432x288 with 1 Axes>"
      ]
     },
     "metadata": {},
     "output_type": "display_data"
    }
   ],
   "source": [
    "sb.barplot(data=df, y=\"Household_size\", x=\"Age\", hue=\"Living_With\")"
   ]
  },
  {
   "cell_type": "code",
   "execution_count": null,
   "metadata": {},
   "outputs": [],
   "source": []
  },
  {
   "cell_type": "code",
   "execution_count": null,
   "metadata": {},
   "outputs": [],
   "source": []
  },
  {
   "cell_type": "code",
   "execution_count": 16,
   "metadata": {
    "scrolled": true
   },
   "outputs": [
    {
     "data": {
      "image/png": "[encoded data removed]",
      "text/plain": [
       "<Figure size 576x576 with 1 Axes>"
      ]
     },
     "metadata": {},
     "output_type": "display_data"
    }
   ],
   "source": [
    "# Bar chart for hobby\n",
    "plt.figure(figsize=(8,8))\n",
    "df.Pupil_Pastime.value_counts().plot(kind=\"bar\")\n",
    "plt.title(\"Bar chart representing the hobby of Pupils\")\n",
    "plt.xlabel(\"Hobby of Pupils\")\n",
    "plt.ylabel(\"Number of pupils\")\n",
    "plt.xticks(rotation = 360)\n",
    "plt.savefig(\"hobby.png\");"
   ]
  },
  {
   "cell_type": "code",
   "execution_count": 15,
   "metadata": {},
   "outputs": [
    {
     "data": {
      "image/png": "[encoded data removed]",
      "text/plain": [
       "<Figure size 576x576 with 1 Axes>"
      ]
     },
     "metadata": {},
     "output_type": "display_data"
    }
   ],
   "source": [
    "# Bar chart for household head education level\n",
    "plt.figure(figsize=(8,8))\n",
    "df.HHhead_education_level.value_counts().plot(kind=\"bar\", color=\"g\")\n",
    "plt.title(\"Bar chart representing the education level of Household Head\")\n",
    "plt.xlabel(\"Education level of Household Head\")\n",
    "plt.ylabel(\"Number of Households\")\n",
    "plt.xticks(rotation = 360)\n",
    "plt.savefig(\"household_education.png\");"
   ]
  },
  {
   "cell_type": "code",
   "execution_count": 14,
   "metadata": {},
   "outputs": [
    {
     "data": {
      "image/png": "[encoded data removed]",
      "text/plain": [
       "<Figure size 576x576 with 1 Axes>"
      ]
     },
     "metadata": {},
     "output_type": "display_data"
    }
   ],
   "source": [
    "# Bar chart for hobby\n",
    "plt.figure(figsize=(8,8))\n",
    "df.HHhead_Occupation.value_counts().plot(kind=\"bar\", color=\"r\")\n",
    "plt.title(\"Bar chart representing the occupation of Household Head\")\n",
    "plt.xlabel(\"Occupation of Household Head\")\n",
    "plt.ylabel(\"Number of Households\")\n",
    "plt.xticks(rotation = 360)\n",
    "plt.savefig(\"household_occupation.png\");"
   ]
  },
  {
   "cell_type": "code",
   "execution_count": 17,
   "metadata": {
    "scrolled": false
   },
   "outputs": [
    {
     "data": {
      "image/png": "[encoded data removed]",
      "text/plain": [
       "<Figure size 576x576 with 1 Axes>"
      ]
     },
     "metadata": {},
     "output_type": "display_data"
    }
   ],
   "source": [
    "# Bar chart for religion\n",
    "plt.figure(figsize=(8,8))\n",
    "df.Religion.value_counts().plot(kind=\"bar\", color=\"y\")\n",
    "plt.title(\"Bar chart representing the religion of Pupils\")\n",
    "plt.xlabel(\"Religion of Pupils\")\n",
    "plt.ylabel(\"Number of pupils\")\n",
    "plt.xticks(rotation = 360)\n",
    "plt.savefig(\"pup_religion.png\");"
   ]
  },
  {
   "cell_type": "code",
   "execution_count": 5,
   "metadata": {},
   "outputs": [],
   "source": [
    "use_c = sb.color_palette()[5]"
   ]
  },
  {
   "cell_type": "code",
   "execution_count": null,
   "metadata": {},
   "outputs": [],
   "source": []
  },
  {
   "cell_type": "code",
   "execution_count": 7,
   "metadata": {},
   "outputs": [
    {
     "data": {
      "image/png": "[encoded data removed]",
      "text/plain": [
       "<Figure size 432x432 with 1 Axes>"
      ]
     },
     "metadata": {},
     "output_type": "display_data"
    }
   ],
   "source": [
    "# Bar chart for sex\n",
    "plt.figure(figsize=(6,6))\n",
    "df.Sex.value_counts().plot(kind=\"bar\", color=use_c)\n",
    "plt.title(\"Bar chart representing the sex of Pupils\")\n",
    "plt.xlabel(\"Sex of Pupils\")\n",
    "plt.ylabel(\"Number of pupils\")\n",
    "plt.xticks(rotation = 360)\n",
    "plt.savefig(\"pup_sex.png\");"
   ]
  },
  {
   "cell_type": "code",
   "execution_count": 37,
   "metadata": {},
   "outputs": [
    {
     "data": {
      "text/plain": [
       "count    550.000000\n",
       "mean      52.961818\n",
       "std       11.109342\n",
       "min       30.000000\n",
       "25%       44.250000\n",
       "50%       55.000000\n",
       "75%       62.000000\n",
       "max       72.000000\n",
       "Name: HHhead age, dtype: float64"
      ]
     },
     "execution_count": 37,
     "metadata": {},
     "output_type": "execute_result"
    }
   ],
   "source": [
    "df[\"HHhead age\"].describe()"
   ]
  },
  {
   "cell_type": "code",
   "execution_count": 39,
   "metadata": {},
   "outputs": [
    {
     "data": {
      "text/plain": [
       "Artisan             33.090909\n",
       "Civil Servant       28.727273\n",
       "Petty Trader        25.272727\n",
       "Trader               7.454545\n",
       "Private Employee     5.454545\n",
       "Name: HHhead_Occupation, dtype: float64"
      ]
     },
     "execution_count": 39,
     "metadata": {},
     "output_type": "execute_result"
    }
   ],
   "source": [
    "(df.HHhead_Occupation.value_counts()/550)*100"
   ]
  },
  {
   "cell_type": "code",
   "execution_count": 41,
   "metadata": {},
   "outputs": [
    {
     "data": {
      "text/plain": [
       "Primary      33.636364\n",
       "Secondary    30.000000\n",
       "No_formal    18.909091\n",
       "Tertiary     17.454545\n",
       "Name: HHhead_education_level, dtype: float64"
      ]
     },
     "execution_count": 41,
     "metadata": {},
     "output_type": "execute_result"
    }
   ],
   "source": [
    "(df.HHhead_education_level.value_counts()/550)*100"
   ]
  },
  {
   "cell_type": "code",
   "execution_count": null,
   "metadata": {},
   "outputs": [],
   "source": []
  },
  {
   "cell_type": "code",
   "execution_count": null,
   "metadata": {},
   "outputs": [],
   "source": []
  },
  {
   "cell_type": "code",
   "execution_count": 6,
   "metadata": {
    "scrolled": true
   },
   "outputs": [
    {
     "data": {
      "text/plain": [
       "<Figure size 720x720 with 0 Axes>"
      ]
     },
     "metadata": {},
     "output_type": "display_data"
    },
    {
     "data": {
      "image/png": "[encoded data removed]",
      "text/plain": [
       "<Figure size 432x288 with 1 Axes>"
      ]
     },
     "metadata": {},
     "output_type": "display_data"
    }
   ],
   "source": [
    "\n",
    "# Bar chart for Age and Pastime\n",
    "plt.figure(figsize=(10,10))\n",
    "pd.crosstab(df.Age, df.Pupil_Pastime).plot(kind=\"bar\")\n",
    "plt.title(\"Composite Bar Chart representing the age and hobby of Pupils\")\n",
    "plt.xlabel(\"Age and Hobby of Pupils\")\n",
    "plt.ylabel(\"Number of pupils\")\n",
    "plt.xticks(rotation = 55)\n",
    "plt.savefig(\"age_hobby.png\");"
   ]
  },
  {
   "cell_type": "code",
   "execution_count": 10,
   "metadata": {},
   "outputs": [
    {
     "data": {
      "text/plain": [
       "<Figure size 720x720 with 0 Axes>"
      ]
     },
     "metadata": {},
     "output_type": "display_data"
    },
    {
     "data": {
      "image/png": "[encoded data removed]",
      "text/plain": [
       "<Figure size 432x288 with 1 Axes>"
      ]
     },
     "metadata": {},
     "output_type": "display_data"
    }
   ],
   "source": [
    "# Bar chart for Age and Pastime\n",
    "plt.figure(figsize=(10,10))\n",
    "pd.crosstab(df.HHhead_education_level, df.HHhead_Occupation).plot(kind=\"bar\")\n",
    "plt.title(\"Bar Chart representing the education and occupation of Household Head\")\n",
    "plt.xlabel(\"Education and Occupation of Household Head\")\n",
    "plt.ylabel(\"Number of Households\")\n",
    "plt.xticks(rotation = 360)\n",
    "plt.savefig(\"edu_occu.png\");"
   ]
  },
  {
   "cell_type": "code",
   "execution_count": 20,
   "metadata": {},
   "outputs": [
    {
     "data": {
      "text/plain": [
       "<Figure size 720x720 with 0 Axes>"
      ]
     },
     "metadata": {},
     "output_type": "display_data"
    },
    {
     "data": {
      "image/png": "[encoded data removed]",
      "text/plain": [
       "<Figure size 432x288 with 1 Axes>"
      ]
     },
     "metadata": {},
     "output_type": "display_data"
    }
   ],
   "source": [
    "# Bar chart for Age and Pastime\n",
    "plt.figure(figsize=(10,10))\n",
    "pd.crosstab(df.Religion, df.Sex).plot(kind=\"bar\")\n",
    "plt.title(\"Composite Bar Chart representing the religion and sex of Pupils\")\n",
    "plt.xlabel(\"Religion and Sex of Pupils\")\n",
    "plt.ylabel(\"Number of Pupils\")\n",
    "plt.xticks(rotation = 360)\n",
    "plt.savefig(\"rel_sex.png\");"
   ]
  },
  {
   "cell_type": "code",
   "execution_count": 22,
   "metadata": {},
   "outputs": [
    {
     "data": {
      "image/png": "[encoded data removed]",
      "text/plain": [
       "<Figure size 432x432 with 1 Axes>"
      ]
     },
     "metadata": {},
     "output_type": "display_data"
    }
   ],
   "source": [
    "plt.figure(figsize=(6,6))\n",
    "sb.barplot(data=df, y=\"Age\", x=\"Sex\", hue=\"Living_With\")\n",
    "plt.title(\"Bar Chart representing the age, sex, and living of Pupils\")\n",
    "plt.xlabel(\"Sex of Pupils\")\n",
    "plt.ylabel(\"Age of Pupils\")\n",
    "plt.xticks(rotation = 360)\n",
    "plt.savefig(\"age_sex_living.png\");"
   ]
  },
  {
   "cell_type": "code",
   "execution_count": 20,
   "metadata": {},
   "outputs": [
    {
     "data": {
      "text/html": [
       "<div>\n",
       "<style scoped>\n",
       "    .dataframe tbody tr th:only-of-type {\n",
       "        vertical-align: middle;\n",
       "    }\n",
       "\n",
       "    .dataframe tbody tr th {\n",
       "        vertical-align: top;\n",
       "    }\n",
       "\n",
       "    .dataframe thead tr th {\n",
       "        text-align: left;\n",
       "    }\n",
       "\n",
       "    .dataframe thead tr:last-of-type th {\n",
       "        text-align: right;\n",
       "    }\n",
       "</style>\n",
       "<table border=\"1\" class=\"dataframe\">\n",
       "  <thead>\n",
       "    <tr>\n",
       "      <th></th>\n",
       "      <th colspan=\"10\" halign=\"left\">HHhead age</th>\n",
       "      <th>...</th>\n",
       "      <th colspan=\"10\" halign=\"left\">Religion</th>\n",
       "    </tr>\n",
       "    <tr>\n",
       "      <th>Age</th>\n",
       "      <th>6</th>\n",
       "      <th>7</th>\n",
       "      <th>8</th>\n",
       "      <th>9</th>\n",
       "      <th>10</th>\n",
       "      <th>11</th>\n",
       "      <th>12</th>\n",
       "      <th>13</th>\n",
       "      <th>14</th>\n",
       "      <th>15</th>\n",
       "      <th>...</th>\n",
       "      <th>6</th>\n",
       "      <th>7</th>\n",
       "      <th>8</th>\n",
       "      <th>9</th>\n",
       "      <th>10</th>\n",
       "      <th>11</th>\n",
       "      <th>12</th>\n",
       "      <th>13</th>\n",
       "      <th>14</th>\n",
       "      <th>15</th>\n",
       "    </tr>\n",
       "    <tr>\n",
       "      <th>Sex</th>\n",
       "      <th></th>\n",
       "      <th></th>\n",
       "      <th></th>\n",
       "      <th></th>\n",
       "      <th></th>\n",
       "      <th></th>\n",
       "      <th></th>\n",
       "      <th></th>\n",
       "      <th></th>\n",
       "      <th></th>\n",
       "      <th></th>\n",
       "      <th></th>\n",
       "      <th></th>\n",
       "      <th></th>\n",
       "      <th></th>\n",
       "      <th></th>\n",
       "      <th></th>\n",
       "      <th></th>\n",
       "      <th></th>\n",
       "      <th></th>\n",
       "      <th></th>\n",
       "    </tr>\n",
       "  </thead>\n",
       "  <tbody>\n",
       "    <tr>\n",
       "      <th>F</th>\n",
       "      <td>14.0</td>\n",
       "      <td>55.0</td>\n",
       "      <td>56.0</td>\n",
       "      <td>30.0</td>\n",
       "      <td>26.0</td>\n",
       "      <td>11.0</td>\n",
       "      <td>18.0</td>\n",
       "      <td>31.0</td>\n",
       "      <td>75.0</td>\n",
       "      <td>35.0</td>\n",
       "      <td>...</td>\n",
       "      <td>14.0</td>\n",
       "      <td>55.0</td>\n",
       "      <td>56.0</td>\n",
       "      <td>30.0</td>\n",
       "      <td>26.0</td>\n",
       "      <td>11.0</td>\n",
       "      <td>18.0</td>\n",
       "      <td>31.0</td>\n",
       "      <td>75.0</td>\n",
       "      <td>35.0</td>\n",
       "    </tr>\n",
       "    <tr>\n",
       "      <th>M</th>\n",
       "      <td>NaN</td>\n",
       "      <td>58.0</td>\n",
       "      <td>86.0</td>\n",
       "      <td>13.0</td>\n",
       "      <td>28.0</td>\n",
       "      <td>NaN</td>\n",
       "      <td>NaN</td>\n",
       "      <td>14.0</td>\n",
       "      <td>NaN</td>\n",
       "      <td>NaN</td>\n",
       "      <td>...</td>\n",
       "      <td>NaN</td>\n",
       "      <td>58.0</td>\n",
       "      <td>86.0</td>\n",
       "      <td>13.0</td>\n",
       "      <td>28.0</td>\n",
       "      <td>NaN</td>\n",
       "      <td>NaN</td>\n",
       "      <td>14.0</td>\n",
       "      <td>NaN</td>\n",
       "      <td>NaN</td>\n",
       "    </tr>\n",
       "  </tbody>\n",
       "</table>\n",
       "<p>2 rows × 90 columns</p>\n",
       "</div>"
      ],
      "text/plain": [
       "    HHhead age                                                        ...  \\\n",
       "Age         6     7     8     9     10    11    12    13    14    15  ...   \n",
       "Sex                                                                   ...   \n",
       "F         14.0  55.0  56.0  30.0  26.0  11.0  18.0  31.0  75.0  35.0  ...   \n",
       "M          NaN  58.0  86.0  13.0  28.0   NaN   NaN  14.0   NaN   NaN  ...   \n",
       "\n",
       "    Religion                                                        \n",
       "Age       6     7     8     9     10    11    12    13    14    15  \n",
       "Sex                                                                 \n",
       "F       14.0  55.0  56.0  30.0  26.0  11.0  18.0  31.0  75.0  35.0  \n",
       "M        NaN  58.0  86.0  13.0  28.0   NaN   NaN  14.0   NaN   NaN  \n",
       "\n",
       "[2 rows x 90 columns]"
      ]
     },
     "execution_count": 20,
     "metadata": {},
     "output_type": "execute_result"
    }
   ],
   "source": [
    "# sex\n",
    "sex1 = pd.pivot_table(data=df, index=[\"Sex\",],columns=[\"Age\"], aggfunc=np.size)\n",
    "sex1"
   ]
  },
  {
   "cell_type": "code",
   "execution_count": null,
   "metadata": {},
   "outputs": [],
   "source": []
  },
  {
   "cell_type": "code",
   "execution_count": null,
   "metadata": {},
   "outputs": [],
   "source": []
  },
  {
   "cell_type": "code",
   "execution_count": null,
   "metadata": {},
   "outputs": [],
   "source": []
  },
  {
   "cell_type": "markdown",
   "metadata": {},
   "source": [
    "## Regression Analysis"
   ]
  },
  {
   "cell_type": "code",
   "execution_count": 31,
   "metadata": {},
   "outputs": [
    {
     "data": {
      "text/html": [
       "<table class=\"simpletable\">\n",
       "<caption>OLS Regression Results</caption>\n",
       "<tr>\n",
       "  <th>Dep. Variable:</th>        <td>Literacy</td>     <th>  R-squared:         </th> <td>   0.626</td> \n",
       "</tr>\n",
       "<tr>\n",
       "  <th>Model:</th>                   <td>OLS</td>       <th>  Adj. R-squared:    </th> <td>   0.624</td> \n",
       "</tr>\n",
       "<tr>\n",
       "  <th>Method:</th>             <td>Least Squares</td>  <th>  F-statistic:       </th> <td>   304.9</td> \n",
       "</tr>\n",
       "<tr>\n",
       "  <th>Date:</th>             <td>Tue, 18 Aug 2020</td> <th>  Prob (F-statistic):</th> <td>3.19e-116</td>\n",
       "</tr>\n",
       "<tr>\n",
       "  <th>Time:</th>                 <td>16:48:46</td>     <th>  Log-Likelihood:    </th> <td> -2093.6</td> \n",
       "</tr>\n",
       "<tr>\n",
       "  <th>No. Observations:</th>      <td>   550</td>      <th>  AIC:               </th> <td>   4195.</td> \n",
       "</tr>\n",
       "<tr>\n",
       "  <th>Df Residuals:</th>          <td>   546</td>      <th>  BIC:               </th> <td>   4212.</td> \n",
       "</tr>\n",
       "<tr>\n",
       "  <th>Df Model:</th>              <td>     3</td>      <th>                     </th>     <td> </td>    \n",
       "</tr>\n",
       "<tr>\n",
       "  <th>Covariance Type:</th>      <td>nonrobust</td>    <th>                     </th>     <td> </td>    \n",
       "</tr>\n",
       "</table>\n",
       "<table class=\"simpletable\">\n",
       "<tr>\n",
       "         <td></td>           <th>coef</th>     <th>std err</th>      <th>t</th>      <th>P>|t|</th>  <th>[0.025</th>    <th>0.975]</th>  \n",
       "</tr>\n",
       "<tr>\n",
       "  <th>intercept</th>      <td>  106.3536</td> <td>    3.396</td> <td>   31.321</td> <td> 0.000</td> <td>   99.684</td> <td>  113.024</td>\n",
       "</tr>\n",
       "<tr>\n",
       "  <th>Age</th>            <td>    0.1342</td> <td>    0.178</td> <td>    0.754</td> <td> 0.451</td> <td>   -0.215</td> <td>    0.484</td>\n",
       "</tr>\n",
       "<tr>\n",
       "  <th>Household_size</th> <td>   -2.2554</td> <td>    0.097</td> <td>  -23.176</td> <td> 0.000</td> <td>   -2.447</td> <td>   -2.064</td>\n",
       "</tr>\n",
       "<tr>\n",
       "  <th>HHhead age</th>     <td>   -0.4202</td> <td>    0.045</td> <td>   -9.331</td> <td> 0.000</td> <td>   -0.509</td> <td>   -0.332</td>\n",
       "</tr>\n",
       "</table>\n",
       "<table class=\"simpletable\">\n",
       "<tr>\n",
       "  <th>Omnibus:</th>       <td>105.921</td> <th>  Durbin-Watson:     </th> <td>   2.105</td>\n",
       "</tr>\n",
       "<tr>\n",
       "  <th>Prob(Omnibus):</th> <td> 0.000</td>  <th>  Jarque-Bera (JB):  </th> <td> 178.379</td>\n",
       "</tr>\n",
       "<tr>\n",
       "  <th>Skew:</th>          <td> 1.168</td>  <th>  Prob(JB):          </th> <td>1.84e-39</td>\n",
       "</tr>\n",
       "<tr>\n",
       "  <th>Kurtosis:</th>      <td> 4.525</td>  <th>  Cond. No.          </th> <td>    408.</td>\n",
       "</tr>\n",
       "</table><br/><br/>Warnings:<br/>[1] Standard Errors assume that the covariance matrix of the errors is correctly specified."
      ],
      "text/plain": [
       "<class 'statsmodels.iolib.summary.Summary'>\n",
       "\"\"\"\n",
       "                            OLS Regression Results                            \n",
       "==============================================================================\n",
       "Dep. Variable:               Literacy   R-squared:                       0.626\n",
       "Model:                            OLS   Adj. R-squared:                  0.624\n",
       "Method:                 Least Squares   F-statistic:                     304.9\n",
       "Date:                Tue, 18 Aug 2020   Prob (F-statistic):          3.19e-116\n",
       "Time:                        16:48:46   Log-Likelihood:                -2093.6\n",
       "No. Observations:                 550   AIC:                             4195.\n",
       "Df Residuals:                     546   BIC:                             4212.\n",
       "Df Model:                           3                                         \n",
       "Covariance Type:            nonrobust                                         \n",
       "==================================================================================\n",
       "                     coef    std err          t      P>|t|      [0.025      0.975]\n",
       "----------------------------------------------------------------------------------\n",
       "intercept        106.3536      3.396     31.321      0.000      99.684     113.024\n",
       "Age                0.1342      0.178      0.754      0.451      -0.215       0.484\n",
       "Household_size    -2.2554      0.097    -23.176      0.000      -2.447      -2.064\n",
       "HHhead age        -0.4202      0.045     -9.331      0.000      -0.509      -0.332\n",
       "==============================================================================\n",
       "Omnibus:                      105.921   Durbin-Watson:                   2.105\n",
       "Prob(Omnibus):                  0.000   Jarque-Bera (JB):              178.379\n",
       "Skew:                           1.168   Prob(JB):                     1.84e-39\n",
       "Kurtosis:                       4.525   Cond. No.                         408.\n",
       "==============================================================================\n",
       "\n",
       "Warnings:\n",
       "[1] Standard Errors assume that the covariance matrix of the errors is correctly specified.\n",
       "\"\"\""
      ]
     },
     "execution_count": 31,
     "metadata": {},
     "output_type": "execute_result"
    }
   ],
   "source": [
    "df[\"intercept\"] = 1\n",
    "linear_reg = sm.OLS(df[\"Literacy\"], df[[\"intercept\", \"Age\", \"Household_size\", \"HHhead age\"]])\n",
    "results = linear_reg.fit()\n",
    "results.summary()"
   ]
  },
  {
   "cell_type": "markdown",
   "metadata": {},
   "source": [
    "### Getting the dummies for the Categorical and dummy variables"
   ]
  },
  {
   "cell_type": "code",
   "execution_count": 33,
   "metadata": {
    "scrolled": true
   },
   "outputs": [
    {
     "data": {
      "text/plain": [
       "Parent      277\n",
       "Guardian    273\n",
       "Name: Living_With, dtype: int64"
      ]
     },
     "execution_count": 33,
     "metadata": {},
     "output_type": "execute_result"
    }
   ],
   "source": [
    "df.Living_With.value_counts()"
   ]
  },
  {
   "cell_type": "code",
   "execution_count": 34,
   "metadata": {
    "scrolled": true
   },
   "outputs": [
    {
     "data": {
      "text/plain": [
       "Reading        245\n",
       "Footballing    135\n",
       "Singing         74\n",
       "Movies          60\n",
       "Dancing         36\n",
       "Name: Pupil_Pastime, dtype: int64"
      ]
     },
     "execution_count": 34,
     "metadata": {},
     "output_type": "execute_result"
    }
   ],
   "source": [
    "df.Pupil_Pastime.value_counts()"
   ]
  },
  {
   "cell_type": "code",
   "execution_count": 35,
   "metadata": {
    "scrolled": true
   },
   "outputs": [
    {
     "data": {
      "text/plain": [
       "Artisan             182\n",
       "Civil Servant       158\n",
       "Petty Trader        139\n",
       "Trader               41\n",
       "Private Employee     30\n",
       "Name: HHhead_Occupation, dtype: int64"
      ]
     },
     "execution_count": 35,
     "metadata": {},
     "output_type": "execute_result"
    }
   ],
   "source": [
    "df.HHhead_Occupation.value_counts()"
   ]
  },
  {
   "cell_type": "code",
   "execution_count": 36,
   "metadata": {},
   "outputs": [
    {
     "data": {
      "text/plain": [
       "Primary      185\n",
       "Secondary    165\n",
       "No_formal    104\n",
       "Tertiary      96\n",
       "Name: HHhead_education_level, dtype: int64"
      ]
     },
     "execution_count": 36,
     "metadata": {},
     "output_type": "execute_result"
    }
   ],
   "source": [
    "df.HHhead_education_level.value_counts()"
   ]
  },
  {
   "cell_type": "code",
   "execution_count": 49,
   "metadata": {},
   "outputs": [],
   "source": [
    "\n",
    "df[[\"M\",\"F\"]] = pd.get_dummies(df[\"Sex\"])\n",
    "df[[\"Islam\",\"Christianity\"]]= pd.get_dummies(df[\"Religion\"])\n",
    "df[[\"Parent\", \"Guardian\"]] = pd.get_dummies(df[\"Living_With\"])\n",
    "df[[\"Reading\", \"Footballing\", \"Singing\", \"Movies\", \"Dancing\"]] = pd.get_dummies(df[\"Pupil_Pastime\"])\n",
    "df[[\"Artisan\", \"Civil Servant\", \"Petty Trader\", \"Trader\", \"Private Employee\"]] = pd.get_dummies(df[\"HHhead_Occupation\"])\n",
    "df[[\"Primary\", \"Secondary\", \"No_formal\", \"Tertiary\"]] = pd.get_dummies(df[\"HHhead_education_level\"])"
   ]
  },
  {
   "cell_type": "code",
   "execution_count": 50,
   "metadata": {},
   "outputs": [
    {
     "data": {
      "text/plain": [
       "Index(['HHhead age', 'Living_With', 'Pupil_Pastime', 'Religion', 'Age',\n",
       "       'HHhead_Occupation', 'HHhead_education_level', 'Sex', 'Household_size',\n",
       "       'Literacy', 'Numeracy', 'intercept', 'M', 'F', 'Muslim', 'Christian',\n",
       "       'Parent', 'Guardian', 'Reading', 'Footballing', 'Singing', 'Movies',\n",
       "       'Dancing', 'Artisan', 'Civil Servant', 'Petty Trader', 'Trader',\n",
       "       'Private Employee', 'Primary', 'Secondary', 'No_formal', 'Tertiary',\n",
       "       'Islam', 'Christianity'],\n",
       "      dtype='object')"
      ]
     },
     "execution_count": 50,
     "metadata": {},
     "output_type": "execute_result"
    }
   ],
   "source": [
    "df.columns"
   ]
  },
  {
   "cell_type": "code",
   "execution_count": 41,
   "metadata": {},
   "outputs": [
    {
     "data": {
      "text/html": [
       "<table class=\"simpletable\">\n",
       "<caption>OLS Regression Results</caption>\n",
       "<tr>\n",
       "  <th>Dep. Variable:</th>        <td>Literacy</td>     <th>  R-squared:         </th> <td>   0.476</td>\n",
       "</tr>\n",
       "<tr>\n",
       "  <th>Model:</th>                   <td>OLS</td>       <th>  Adj. R-squared:    </th> <td>   0.473</td>\n",
       "</tr>\n",
       "<tr>\n",
       "  <th>Method:</th>             <td>Least Squares</td>  <th>  F-statistic:       </th> <td>   124.0</td>\n",
       "</tr>\n",
       "<tr>\n",
       "  <th>Date:</th>             <td>Tue, 18 Aug 2020</td> <th>  Prob (F-statistic):</th> <td>3.39e-75</td>\n",
       "</tr>\n",
       "<tr>\n",
       "  <th>Time:</th>                 <td>17:02:02</td>     <th>  Log-Likelihood:    </th> <td> -2186.3</td>\n",
       "</tr>\n",
       "<tr>\n",
       "  <th>No. Observations:</th>      <td>   550</td>      <th>  AIC:               </th> <td>   4383.</td>\n",
       "</tr>\n",
       "<tr>\n",
       "  <th>Df Residuals:</th>          <td>   545</td>      <th>  BIC:               </th> <td>   4404.</td>\n",
       "</tr>\n",
       "<tr>\n",
       "  <th>Df Model:</th>              <td>     4</td>      <th>                     </th>     <td> </td>   \n",
       "</tr>\n",
       "<tr>\n",
       "  <th>Covariance Type:</th>      <td>nonrobust</td>    <th>                     </th>     <td> </td>   \n",
       "</tr>\n",
       "</table>\n",
       "<table class=\"simpletable\">\n",
       "<tr>\n",
       "          <td></td>            <th>coef</th>     <th>std err</th>      <th>t</th>      <th>P>|t|</th>  <th>[0.025</th>    <th>0.975]</th>  \n",
       "</tr>\n",
       "<tr>\n",
       "  <th>intercept</th>        <td>   61.3956</td> <td>    0.959</td> <td>   63.989</td> <td> 0.000</td> <td>   59.511</td> <td>   63.280</td>\n",
       "</tr>\n",
       "<tr>\n",
       "  <th>Civil Servant</th>    <td>   11.0981</td> <td>    1.407</td> <td>    7.885</td> <td> 0.000</td> <td>    8.333</td> <td>   13.863</td>\n",
       "</tr>\n",
       "<tr>\n",
       "  <th>Petty Trader</th>     <td>  -19.0791</td> <td>    1.458</td> <td>  -13.085</td> <td> 0.000</td> <td>  -21.943</td> <td>  -16.215</td>\n",
       "</tr>\n",
       "<tr>\n",
       "  <th>Trader</th>           <td>   15.2044</td> <td>    2.551</td> <td>    5.961</td> <td> 0.000</td> <td>   10.194</td> <td>   20.215</td>\n",
       "</tr>\n",
       "<tr>\n",
       "  <th>Private Employee</th> <td>   12.2142</td> <td>    2.238</td> <td>    5.458</td> <td> 0.000</td> <td>    7.819</td> <td>   16.610</td>\n",
       "</tr>\n",
       "</table>\n",
       "<table class=\"simpletable\">\n",
       "<tr>\n",
       "  <th>Omnibus:</th>       <td>13.360</td> <th>  Durbin-Watson:     </th> <td>   2.031</td>\n",
       "</tr>\n",
       "<tr>\n",
       "  <th>Prob(Omnibus):</th> <td> 0.001</td> <th>  Jarque-Bera (JB):  </th> <td>  13.824</td>\n",
       "</tr>\n",
       "<tr>\n",
       "  <th>Skew:</th>          <td>-0.373</td> <th>  Prob(JB):          </th> <td>0.000996</td>\n",
       "</tr>\n",
       "<tr>\n",
       "  <th>Kurtosis:</th>      <td> 2.782</td> <th>  Cond. No.          </th> <td>    5.54</td>\n",
       "</tr>\n",
       "</table><br/><br/>Warnings:<br/>[1] Standard Errors assume that the covariance matrix of the errors is correctly specified."
      ],
      "text/plain": [
       "<class 'statsmodels.iolib.summary.Summary'>\n",
       "\"\"\"\n",
       "                            OLS Regression Results                            \n",
       "==============================================================================\n",
       "Dep. Variable:               Literacy   R-squared:                       0.476\n",
       "Model:                            OLS   Adj. R-squared:                  0.473\n",
       "Method:                 Least Squares   F-statistic:                     124.0\n",
       "Date:                Tue, 18 Aug 2020   Prob (F-statistic):           3.39e-75\n",
       "Time:                        17:02:02   Log-Likelihood:                -2186.3\n",
       "No. Observations:                 550   AIC:                             4383.\n",
       "Df Residuals:                     545   BIC:                             4404.\n",
       "Df Model:                           4                                         \n",
       "Covariance Type:            nonrobust                                         \n",
       "====================================================================================\n",
       "                       coef    std err          t      P>|t|      [0.025      0.975]\n",
       "------------------------------------------------------------------------------------\n",
       "intercept           61.3956      0.959     63.989      0.000      59.511      63.280\n",
       "Civil Servant       11.0981      1.407      7.885      0.000       8.333      13.863\n",
       "Petty Trader       -19.0791      1.458    -13.085      0.000     -21.943     -16.215\n",
       "Trader              15.2044      2.551      5.961      0.000      10.194      20.215\n",
       "Private Employee    12.2142      2.238      5.458      0.000       7.819      16.610\n",
       "==============================================================================\n",
       "Omnibus:                       13.360   Durbin-Watson:                   2.031\n",
       "Prob(Omnibus):                  0.001   Jarque-Bera (JB):               13.824\n",
       "Skew:                          -0.373   Prob(JB):                     0.000996\n",
       "Kurtosis:                       2.782   Cond. No.                         5.54\n",
       "==============================================================================\n",
       "\n",
       "Warnings:\n",
       "[1] Standard Errors assume that the covariance matrix of the errors is correctly specified.\n",
       "\"\"\""
      ]
     },
     "execution_count": 41,
     "metadata": {},
     "output_type": "execute_result"
    }
   ],
   "source": [
    "# Regression of paplin on parent occupation type using Artisan as the base\n",
    "# First we take Literacy\n",
    "linear_reg = sm.OLS(df['Literacy'], df[['intercept', 'Civil Servant', 'Petty Trader', 'Trader',\n",
    "       'Private Employee']])\n",
    "results = linear_reg.fit()\n",
    "results.summary()"
   ]
  },
  {
   "cell_type": "code",
   "execution_count": 42,
   "metadata": {
    "scrolled": true
   },
   "outputs": [
    {
     "data": {
      "text/html": [
       "<table class=\"simpletable\">\n",
       "<caption>OLS Regression Results</caption>\n",
       "<tr>\n",
       "  <th>Dep. Variable:</th>        <td>Numeracy</td>     <th>  R-squared:         </th> <td>   0.531</td>\n",
       "</tr>\n",
       "<tr>\n",
       "  <th>Model:</th>                   <td>OLS</td>       <th>  Adj. R-squared:    </th> <td>   0.527</td>\n",
       "</tr>\n",
       "<tr>\n",
       "  <th>Method:</th>             <td>Least Squares</td>  <th>  F-statistic:       </th> <td>   154.0</td>\n",
       "</tr>\n",
       "<tr>\n",
       "  <th>Date:</th>             <td>Tue, 18 Aug 2020</td> <th>  Prob (F-statistic):</th> <td>4.47e-88</td>\n",
       "</tr>\n",
       "<tr>\n",
       "  <th>Time:</th>                 <td>17:03:08</td>     <th>  Log-Likelihood:    </th> <td> -2160.6</td>\n",
       "</tr>\n",
       "<tr>\n",
       "  <th>No. Observations:</th>      <td>   550</td>      <th>  AIC:               </th> <td>   4331.</td>\n",
       "</tr>\n",
       "<tr>\n",
       "  <th>Df Residuals:</th>          <td>   545</td>      <th>  BIC:               </th> <td>   4353.</td>\n",
       "</tr>\n",
       "<tr>\n",
       "  <th>Df Model:</th>              <td>     4</td>      <th>                     </th>     <td> </td>   \n",
       "</tr>\n",
       "<tr>\n",
       "  <th>Covariance Type:</th>      <td>nonrobust</td>    <th>                     </th>     <td> </td>   \n",
       "</tr>\n",
       "</table>\n",
       "<table class=\"simpletable\">\n",
       "<tr>\n",
       "          <td></td>            <th>coef</th>     <th>std err</th>      <th>t</th>      <th>P>|t|</th>  <th>[0.025</th>    <th>0.975]</th>  \n",
       "</tr>\n",
       "<tr>\n",
       "  <th>intercept</th>        <td>   60.0824</td> <td>    0.916</td> <td>   65.605</td> <td> 0.000</td> <td>   58.283</td> <td>   61.881</td>\n",
       "</tr>\n",
       "<tr>\n",
       "  <th>Civil Servant</th>    <td>   19.8290</td> <td>    1.343</td> <td>   14.760</td> <td> 0.000</td> <td>   17.190</td> <td>   22.468</td>\n",
       "</tr>\n",
       "<tr>\n",
       "  <th>Petty Trader</th>     <td>   -9.6723</td> <td>    1.392</td> <td>   -6.950</td> <td> 0.000</td> <td>  -12.406</td> <td>   -6.939</td>\n",
       "</tr>\n",
       "<tr>\n",
       "  <th>Trader</th>           <td>   19.6509</td> <td>    2.435</td> <td>    8.072</td> <td> 0.000</td> <td>   14.869</td> <td>   24.433</td>\n",
       "</tr>\n",
       "<tr>\n",
       "  <th>Private Employee</th> <td>   26.7225</td> <td>    2.136</td> <td>   12.511</td> <td> 0.000</td> <td>   22.527</td> <td>   30.918</td>\n",
       "</tr>\n",
       "</table>\n",
       "<table class=\"simpletable\">\n",
       "<tr>\n",
       "  <th>Omnibus:</th>       <td> 7.697</td> <th>  Durbin-Watson:     </th> <td>   1.987</td>\n",
       "</tr>\n",
       "<tr>\n",
       "  <th>Prob(Omnibus):</th> <td> 0.021</td> <th>  Jarque-Bera (JB):  </th> <td>   7.716</td>\n",
       "</tr>\n",
       "<tr>\n",
       "  <th>Skew:</th>          <td>-0.290</td> <th>  Prob(JB):          </th> <td>  0.0211</td>\n",
       "</tr>\n",
       "<tr>\n",
       "  <th>Kurtosis:</th>      <td> 3.036</td> <th>  Cond. No.          </th> <td>    5.54</td>\n",
       "</tr>\n",
       "</table><br/><br/>Warnings:<br/>[1] Standard Errors assume that the covariance matrix of the errors is correctly specified."
      ],
      "text/plain": [
       "<class 'statsmodels.iolib.summary.Summary'>\n",
       "\"\"\"\n",
       "                            OLS Regression Results                            \n",
       "==============================================================================\n",
       "Dep. Variable:               Numeracy   R-squared:                       0.531\n",
       "Model:                            OLS   Adj. R-squared:                  0.527\n",
       "Method:                 Least Squares   F-statistic:                     154.0\n",
       "Date:                Tue, 18 Aug 2020   Prob (F-statistic):           4.47e-88\n",
       "Time:                        17:03:08   Log-Likelihood:                -2160.6\n",
       "No. Observations:                 550   AIC:                             4331.\n",
       "Df Residuals:                     545   BIC:                             4353.\n",
       "Df Model:                           4                                         \n",
       "Covariance Type:            nonrobust                                         \n",
       "====================================================================================\n",
       "                       coef    std err          t      P>|t|      [0.025      0.975]\n",
       "------------------------------------------------------------------------------------\n",
       "intercept           60.0824      0.916     65.605      0.000      58.283      61.881\n",
       "Civil Servant       19.8290      1.343     14.760      0.000      17.190      22.468\n",
       "Petty Trader        -9.6723      1.392     -6.950      0.000     -12.406      -6.939\n",
       "Trader              19.6509      2.435      8.072      0.000      14.869      24.433\n",
       "Private Employee    26.7225      2.136     12.511      0.000      22.527      30.918\n",
       "==============================================================================\n",
       "Omnibus:                        7.697   Durbin-Watson:                   1.987\n",
       "Prob(Omnibus):                  0.021   Jarque-Bera (JB):                7.716\n",
       "Skew:                          -0.290   Prob(JB):                       0.0211\n",
       "Kurtosis:                       3.036   Cond. No.                         5.54\n",
       "==============================================================================\n",
       "\n",
       "Warnings:\n",
       "[1] Standard Errors assume that the covariance matrix of the errors is correctly specified.\n",
       "\"\"\""
      ]
     },
     "execution_count": 42,
     "metadata": {},
     "output_type": "execute_result"
    }
   ],
   "source": [
    "# Second, we take Numeracy\n",
    "linear_reg = sm.OLS(df['Numeracy'], df[['intercept', 'Civil Servant', 'Petty Trader', 'Trader',\n",
    "       'Private Employee']])\n",
    "results = linear_reg.fit()\n",
    "results.summary()"
   ]
  },
  {
   "cell_type": "code",
   "execution_count": 43,
   "metadata": {},
   "outputs": [
    {
     "data": {
      "text/html": [
       "<table class=\"simpletable\">\n",
       "<caption>OLS Regression Results</caption>\n",
       "<tr>\n",
       "  <th>Dep. Variable:</th>        <td>Literacy</td>     <th>  R-squared:         </th> <td>   0.562</td> \n",
       "</tr>\n",
       "<tr>\n",
       "  <th>Model:</th>                   <td>OLS</td>       <th>  Adj. R-squared:    </th> <td>   0.561</td> \n",
       "</tr>\n",
       "<tr>\n",
       "  <th>Method:</th>             <td>Least Squares</td>  <th>  F-statistic:       </th> <td>   702.4</td> \n",
       "</tr>\n",
       "<tr>\n",
       "  <th>Date:</th>             <td>Tue, 18 Aug 2020</td> <th>  Prob (F-statistic):</th> <td>3.11e-100</td>\n",
       "</tr>\n",
       "<tr>\n",
       "  <th>Time:</th>                 <td>17:05:47</td>     <th>  Log-Likelihood:    </th> <td> -2137.4</td> \n",
       "</tr>\n",
       "<tr>\n",
       "  <th>No. Observations:</th>      <td>   550</td>      <th>  AIC:               </th> <td>   4279.</td> \n",
       "</tr>\n",
       "<tr>\n",
       "  <th>Df Residuals:</th>          <td>   548</td>      <th>  BIC:               </th> <td>   4287.</td> \n",
       "</tr>\n",
       "<tr>\n",
       "  <th>Df Model:</th>              <td>     1</td>      <th>                     </th>     <td> </td>    \n",
       "</tr>\n",
       "<tr>\n",
       "  <th>Covariance Type:</th>      <td>nonrobust</td>    <th>                     </th>     <td> </td>    \n",
       "</tr>\n",
       "</table>\n",
       "<table class=\"simpletable\">\n",
       "<tr>\n",
       "         <td></td>           <th>coef</th>     <th>std err</th>      <th>t</th>      <th>P>|t|</th>  <th>[0.025</th>    <th>0.975]</th>  \n",
       "</tr>\n",
       "<tr>\n",
       "  <th>intercept</th>      <td>   88.6028</td> <td>    1.140</td> <td>   77.731</td> <td> 0.000</td> <td>   86.364</td> <td>   90.842</td>\n",
       "</tr>\n",
       "<tr>\n",
       "  <th>Household_size</th> <td>   -2.5549</td> <td>    0.096</td> <td>  -26.502</td> <td> 0.000</td> <td>   -2.744</td> <td>   -2.366</td>\n",
       "</tr>\n",
       "</table>\n",
       "<table class=\"simpletable\">\n",
       "<tr>\n",
       "  <th>Omnibus:</th>       <td>78.402</td> <th>  Durbin-Watson:     </th> <td>   2.093</td>\n",
       "</tr>\n",
       "<tr>\n",
       "  <th>Prob(Omnibus):</th> <td> 0.000</td> <th>  Jarque-Bera (JB):  </th> <td> 110.842</td>\n",
       "</tr>\n",
       "<tr>\n",
       "  <th>Skew:</th>          <td> 1.001</td> <th>  Prob(JB):          </th> <td>8.53e-25</td>\n",
       "</tr>\n",
       "<tr>\n",
       "  <th>Kurtosis:</th>      <td> 3.910</td> <th>  Cond. No.          </th> <td>    26.9</td>\n",
       "</tr>\n",
       "</table><br/><br/>Warnings:<br/>[1] Standard Errors assume that the covariance matrix of the errors is correctly specified."
      ],
      "text/plain": [
       "<class 'statsmodels.iolib.summary.Summary'>\n",
       "\"\"\"\n",
       "                            OLS Regression Results                            \n",
       "==============================================================================\n",
       "Dep. Variable:               Literacy   R-squared:                       0.562\n",
       "Model:                            OLS   Adj. R-squared:                  0.561\n",
       "Method:                 Least Squares   F-statistic:                     702.4\n",
       "Date:                Tue, 18 Aug 2020   Prob (F-statistic):          3.11e-100\n",
       "Time:                        17:05:47   Log-Likelihood:                -2137.4\n",
       "No. Observations:                 550   AIC:                             4279.\n",
       "Df Residuals:                     548   BIC:                             4287.\n",
       "Df Model:                           1                                         \n",
       "Covariance Type:            nonrobust                                         \n",
       "==================================================================================\n",
       "                     coef    std err          t      P>|t|      [0.025      0.975]\n",
       "----------------------------------------------------------------------------------\n",
       "intercept         88.6028      1.140     77.731      0.000      86.364      90.842\n",
       "Household_size    -2.5549      0.096    -26.502      0.000      -2.744      -2.366\n",
       "==============================================================================\n",
       "Omnibus:                       78.402   Durbin-Watson:                   2.093\n",
       "Prob(Omnibus):                  0.000   Jarque-Bera (JB):              110.842\n",
       "Skew:                           1.001   Prob(JB):                     8.53e-25\n",
       "Kurtosis:                       3.910   Cond. No.                         26.9\n",
       "==============================================================================\n",
       "\n",
       "Warnings:\n",
       "[1] Standard Errors assume that the covariance matrix of the errors is correctly specified.\n",
       "\"\"\""
      ]
     },
     "execution_count": 43,
     "metadata": {},
     "output_type": "execute_result"
    }
   ],
   "source": [
    "# Regression of paplin on Household size\n",
    "# First we take Literacy\n",
    "linear_reg = sm.OLS(df['Literacy'], df[['intercept', 'Household_size']])\n",
    "results = linear_reg.fit()\n",
    "results.summary()"
   ]
  },
  {
   "cell_type": "code",
   "execution_count": 44,
   "metadata": {
    "scrolled": true
   },
   "outputs": [
    {
     "data": {
      "text/html": [
       "<table class=\"simpletable\">\n",
       "<caption>OLS Regression Results</caption>\n",
       "<tr>\n",
       "  <th>Dep. Variable:</th>        <td>Numeracy</td>     <th>  R-squared:         </th> <td>   0.617</td> \n",
       "</tr>\n",
       "<tr>\n",
       "  <th>Model:</th>                   <td>OLS</td>       <th>  Adj. R-squared:    </th> <td>   0.617</td> \n",
       "</tr>\n",
       "<tr>\n",
       "  <th>Method:</th>             <td>Least Squares</td>  <th>  F-statistic:       </th> <td>   884.3</td> \n",
       "</tr>\n",
       "<tr>\n",
       "  <th>Date:</th>             <td>Tue, 18 Aug 2020</td> <th>  Prob (F-statistic):</th> <td>2.05e-116</td>\n",
       "</tr>\n",
       "<tr>\n",
       "  <th>Time:</th>                 <td>17:07:07</td>     <th>  Log-Likelihood:    </th> <td> -2104.4</td> \n",
       "</tr>\n",
       "<tr>\n",
       "  <th>No. Observations:</th>      <td>   550</td>      <th>  AIC:               </th> <td>   4213.</td> \n",
       "</tr>\n",
       "<tr>\n",
       "  <th>Df Residuals:</th>          <td>   548</td>      <th>  BIC:               </th> <td>   4221.</td> \n",
       "</tr>\n",
       "<tr>\n",
       "  <th>Df Model:</th>              <td>     1</td>      <th>                     </th>     <td> </td>    \n",
       "</tr>\n",
       "<tr>\n",
       "  <th>Covariance Type:</th>      <td>nonrobust</td>    <th>                     </th>     <td> </td>    \n",
       "</tr>\n",
       "</table>\n",
       "<table class=\"simpletable\">\n",
       "<tr>\n",
       "         <td></td>           <th>coef</th>     <th>std err</th>      <th>t</th>      <th>P>|t|</th>  <th>[0.025</th>    <th>0.975]</th>  \n",
       "</tr>\n",
       "<tr>\n",
       "  <th>intercept</th>      <td>   95.0394</td> <td>    1.074</td> <td>   88.522</td> <td> 0.000</td> <td>   92.930</td> <td>   97.148</td>\n",
       "</tr>\n",
       "<tr>\n",
       "  <th>Household_size</th> <td>   -2.7001</td> <td>    0.091</td> <td>  -29.737</td> <td> 0.000</td> <td>   -2.879</td> <td>   -2.522</td>\n",
       "</tr>\n",
       "</table>\n",
       "<table class=\"simpletable\">\n",
       "<tr>\n",
       "  <th>Omnibus:</th>       <td>68.534</td> <th>  Durbin-Watson:     </th> <td>   1.973</td>\n",
       "</tr>\n",
       "<tr>\n",
       "  <th>Prob(Omnibus):</th> <td> 0.000</td> <th>  Jarque-Bera (JB):  </th> <td> 120.025</td>\n",
       "</tr>\n",
       "<tr>\n",
       "  <th>Skew:</th>          <td> 0.769</td> <th>  Prob(JB):          </th> <td>8.65e-27</td>\n",
       "</tr>\n",
       "<tr>\n",
       "  <th>Kurtosis:</th>      <td> 4.694</td> <th>  Cond. No.          </th> <td>    26.9</td>\n",
       "</tr>\n",
       "</table><br/><br/>Warnings:<br/>[1] Standard Errors assume that the covariance matrix of the errors is correctly specified."
      ],
      "text/plain": [
       "<class 'statsmodels.iolib.summary.Summary'>\n",
       "\"\"\"\n",
       "                            OLS Regression Results                            \n",
       "==============================================================================\n",
       "Dep. Variable:               Numeracy   R-squared:                       0.617\n",
       "Model:                            OLS   Adj. R-squared:                  0.617\n",
       "Method:                 Least Squares   F-statistic:                     884.3\n",
       "Date:                Tue, 18 Aug 2020   Prob (F-statistic):          2.05e-116\n",
       "Time:                        17:07:07   Log-Likelihood:                -2104.4\n",
       "No. Observations:                 550   AIC:                             4213.\n",
       "Df Residuals:                     548   BIC:                             4221.\n",
       "Df Model:                           1                                         \n",
       "Covariance Type:            nonrobust                                         \n",
       "==================================================================================\n",
       "                     coef    std err          t      P>|t|      [0.025      0.975]\n",
       "----------------------------------------------------------------------------------\n",
       "intercept         95.0394      1.074     88.522      0.000      92.930      97.148\n",
       "Household_size    -2.7001      0.091    -29.737      0.000      -2.879      -2.522\n",
       "==============================================================================\n",
       "Omnibus:                       68.534   Durbin-Watson:                   1.973\n",
       "Prob(Omnibus):                  0.000   Jarque-Bera (JB):              120.025\n",
       "Skew:                           0.769   Prob(JB):                     8.65e-27\n",
       "Kurtosis:                       4.694   Cond. No.                         26.9\n",
       "==============================================================================\n",
       "\n",
       "Warnings:\n",
       "[1] Standard Errors assume that the covariance matrix of the errors is correctly specified.\n",
       "\"\"\""
      ]
     },
     "execution_count": 44,
     "metadata": {},
     "output_type": "execute_result"
    }
   ],
   "source": [
    "# Second, we take Numeracy\n",
    "linear_reg = sm.OLS(df['Numeracy'], df[['intercept', 'Household_size']])\n",
    "results = linear_reg.fit()\n",
    "results.summary()"
   ]
  },
  {
   "cell_type": "code",
   "execution_count": 47,
   "metadata": {},
   "outputs": [
    {
     "data": {
      "text/html": [
       "<table class=\"simpletable\">\n",
       "<caption>OLS Regression Results</caption>\n",
       "<tr>\n",
       "  <th>Dep. Variable:</th>        <td>Literacy</td>     <th>  R-squared:         </th> <td>   0.567</td>\n",
       "</tr>\n",
       "<tr>\n",
       "  <th>Model:</th>                   <td>OLS</td>       <th>  Adj. R-squared:    </th> <td>   0.565</td>\n",
       "</tr>\n",
       "<tr>\n",
       "  <th>Method:</th>             <td>Least Squares</td>  <th>  F-statistic:       </th> <td>   238.5</td>\n",
       "</tr>\n",
       "<tr>\n",
       "  <th>Date:</th>             <td>Tue, 18 Aug 2020</td> <th>  Prob (F-statistic):</th> <td>7.13e-99</td>\n",
       "</tr>\n",
       "<tr>\n",
       "  <th>Time:</th>                 <td>17:11:08</td>     <th>  Log-Likelihood:    </th> <td> -2133.9</td>\n",
       "</tr>\n",
       "<tr>\n",
       "  <th>No. Observations:</th>      <td>   550</td>      <th>  AIC:               </th> <td>   4276.</td>\n",
       "</tr>\n",
       "<tr>\n",
       "  <th>Df Residuals:</th>          <td>   546</td>      <th>  BIC:               </th> <td>   4293.</td>\n",
       "</tr>\n",
       "<tr>\n",
       "  <th>Df Model:</th>              <td>     3</td>      <th>                     </th>     <td> </td>   \n",
       "</tr>\n",
       "<tr>\n",
       "  <th>Covariance Type:</th>      <td>nonrobust</td>    <th>                     </th>     <td> </td>   \n",
       "</tr>\n",
       "</table>\n",
       "<table class=\"simpletable\">\n",
       "<tr>\n",
       "      <td></td>         <th>coef</th>     <th>std err</th>      <th>t</th>      <th>P>|t|</th>  <th>[0.025</th>    <th>0.975]</th>  \n",
       "</tr>\n",
       "<tr>\n",
       "  <th>intercept</th> <td>   72.7333</td> <td>    0.915</td> <td>   79.458</td> <td> 0.000</td> <td>   70.935</td> <td>   74.531</td>\n",
       "</tr>\n",
       "<tr>\n",
       "  <th>Primary</th>   <td>  -35.7333</td> <td>    1.472</td> <td>  -24.273</td> <td> 0.000</td> <td>  -38.625</td> <td>  -32.842</td>\n",
       "</tr>\n",
       "<tr>\n",
       "  <th>Secondary</th> <td>  -13.8360</td> <td>    1.259</td> <td>  -10.989</td> <td> 0.000</td> <td>  -16.309</td> <td>  -11.363</td>\n",
       "</tr>\n",
       "<tr>\n",
       "  <th>Tertiary</th>  <td>    1.0271</td> <td>    1.509</td> <td>    0.680</td> <td> 0.496</td> <td>   -1.938</td> <td>    3.992</td>\n",
       "</tr>\n",
       "</table>\n",
       "<table class=\"simpletable\">\n",
       "<tr>\n",
       "  <th>Omnibus:</th>       <td> 5.099</td> <th>  Durbin-Watson:     </th> <td>   1.850</td>\n",
       "</tr>\n",
       "<tr>\n",
       "  <th>Prob(Omnibus):</th> <td> 0.078</td> <th>  Jarque-Bera (JB):  </th> <td>   4.164</td>\n",
       "</tr>\n",
       "<tr>\n",
       "  <th>Skew:</th>          <td> 0.117</td> <th>  Prob(JB):          </th> <td>   0.125</td>\n",
       "</tr>\n",
       "<tr>\n",
       "  <th>Kurtosis:</th>      <td> 2.644</td> <th>  Cond. No.          </th> <td>    4.53</td>\n",
       "</tr>\n",
       "</table><br/><br/>Warnings:<br/>[1] Standard Errors assume that the covariance matrix of the errors is correctly specified."
      ],
      "text/plain": [
       "<class 'statsmodels.iolib.summary.Summary'>\n",
       "\"\"\"\n",
       "                            OLS Regression Results                            \n",
       "==============================================================================\n",
       "Dep. Variable:               Literacy   R-squared:                       0.567\n",
       "Model:                            OLS   Adj. R-squared:                  0.565\n",
       "Method:                 Least Squares   F-statistic:                     238.5\n",
       "Date:                Tue, 18 Aug 2020   Prob (F-statistic):           7.13e-99\n",
       "Time:                        17:11:08   Log-Likelihood:                -2133.9\n",
       "No. Observations:                 550   AIC:                             4276.\n",
       "Df Residuals:                     546   BIC:                             4293.\n",
       "Df Model:                           3                                         \n",
       "Covariance Type:            nonrobust                                         \n",
       "==============================================================================\n",
       "                 coef    std err          t      P>|t|      [0.025      0.975]\n",
       "------------------------------------------------------------------------------\n",
       "intercept     72.7333      0.915     79.458      0.000      70.935      74.531\n",
       "Primary      -35.7333      1.472    -24.273      0.000     -38.625     -32.842\n",
       "Secondary    -13.8360      1.259    -10.989      0.000     -16.309     -11.363\n",
       "Tertiary       1.0271      1.509      0.680      0.496      -1.938       3.992\n",
       "==============================================================================\n",
       "Omnibus:                        5.099   Durbin-Watson:                   1.850\n",
       "Prob(Omnibus):                  0.078   Jarque-Bera (JB):                4.164\n",
       "Skew:                           0.117   Prob(JB):                        0.125\n",
       "Kurtosis:                       2.644   Cond. No.                         4.53\n",
       "==============================================================================\n",
       "\n",
       "Warnings:\n",
       "[1] Standard Errors assume that the covariance matrix of the errors is correctly specified.\n",
       "\"\"\""
      ]
     },
     "execution_count": 47,
     "metadata": {},
     "output_type": "execute_result"
    }
   ],
   "source": [
    "# Regression of paplin on parent's educational status using No_formal as the base\n",
    "# First we take Literacy\n",
    "# First we take Literacy\n",
    "linear_reg = sm.OLS(df['Literacy'], df[['intercept', 'Primary', 'Secondary', 'Tertiary']])\n",
    "results = linear_reg.fit()\n",
    "results.summary()"
   ]
  },
  {
   "cell_type": "code",
   "execution_count": 48,
   "metadata": {},
   "outputs": [
    {
     "data": {
      "text/html": [
       "<table class=\"simpletable\">\n",
       "<caption>OLS Regression Results</caption>\n",
       "<tr>\n",
       "  <th>Dep. Variable:</th>        <td>Numeracy</td>     <th>  R-squared:         </th> <td>   0.711</td> \n",
       "</tr>\n",
       "<tr>\n",
       "  <th>Model:</th>                   <td>OLS</td>       <th>  Adj. R-squared:    </th> <td>   0.709</td> \n",
       "</tr>\n",
       "<tr>\n",
       "  <th>Method:</th>             <td>Least Squares</td>  <th>  F-statistic:       </th> <td>   447.9</td> \n",
       "</tr>\n",
       "<tr>\n",
       "  <th>Date:</th>             <td>Tue, 18 Aug 2020</td> <th>  Prob (F-statistic):</th> <td>9.81e-147</td>\n",
       "</tr>\n",
       "<tr>\n",
       "  <th>Time:</th>                 <td>17:12:11</td>     <th>  Log-Likelihood:    </th> <td> -2027.2</td> \n",
       "</tr>\n",
       "<tr>\n",
       "  <th>No. Observations:</th>      <td>   550</td>      <th>  AIC:               </th> <td>   4062.</td> \n",
       "</tr>\n",
       "<tr>\n",
       "  <th>Df Residuals:</th>          <td>   546</td>      <th>  BIC:               </th> <td>   4080.</td> \n",
       "</tr>\n",
       "<tr>\n",
       "  <th>Df Model:</th>              <td>     3</td>      <th>                     </th>     <td> </td>    \n",
       "</tr>\n",
       "<tr>\n",
       "  <th>Covariance Type:</th>      <td>nonrobust</td>    <th>                     </th>     <td> </td>    \n",
       "</tr>\n",
       "</table>\n",
       "<table class=\"simpletable\">\n",
       "<tr>\n",
       "      <td></td>         <th>coef</th>     <th>std err</th>      <th>t</th>      <th>P>|t|</th>  <th>[0.025</th>    <th>0.975]</th>  \n",
       "</tr>\n",
       "<tr>\n",
       "  <th>intercept</th> <td>   76.4727</td> <td>    0.754</td> <td>  101.430</td> <td> 0.000</td> <td>   74.992</td> <td>   77.954</td>\n",
       "</tr>\n",
       "<tr>\n",
       "  <th>Primary</th>   <td>  -35.2035</td> <td>    1.213</td> <td>  -29.033</td> <td> 0.000</td> <td>  -37.585</td> <td>  -32.822</td>\n",
       "</tr>\n",
       "<tr>\n",
       "  <th>Secondary</th> <td>  -15.3268</td> <td>    1.037</td> <td>  -14.780</td> <td> 0.000</td> <td>  -17.364</td> <td>  -13.290</td>\n",
       "</tr>\n",
       "<tr>\n",
       "  <th>Tertiary</th>  <td>    9.9544</td> <td>    1.243</td> <td>    8.007</td> <td> 0.000</td> <td>    7.512</td> <td>   12.396</td>\n",
       "</tr>\n",
       "</table>\n",
       "<table class=\"simpletable\">\n",
       "<tr>\n",
       "  <th>Omnibus:</th>       <td>61.560</td> <th>  Durbin-Watson:     </th> <td>   1.878</td>\n",
       "</tr>\n",
       "<tr>\n",
       "  <th>Prob(Omnibus):</th> <td> 0.000</td> <th>  Jarque-Bera (JB):  </th> <td>  31.861</td>\n",
       "</tr>\n",
       "<tr>\n",
       "  <th>Skew:</th>          <td>-0.427</td> <th>  Prob(JB):          </th> <td>1.21e-07</td>\n",
       "</tr>\n",
       "<tr>\n",
       "  <th>Kurtosis:</th>      <td> 2.187</td> <th>  Cond. No.          </th> <td>    4.53</td>\n",
       "</tr>\n",
       "</table><br/><br/>Warnings:<br/>[1] Standard Errors assume that the covariance matrix of the errors is correctly specified."
      ],
      "text/plain": [
       "<class 'statsmodels.iolib.summary.Summary'>\n",
       "\"\"\"\n",
       "                            OLS Regression Results                            \n",
       "==============================================================================\n",
       "Dep. Variable:               Numeracy   R-squared:                       0.711\n",
       "Model:                            OLS   Adj. R-squared:                  0.709\n",
       "Method:                 Least Squares   F-statistic:                     447.9\n",
       "Date:                Tue, 18 Aug 2020   Prob (F-statistic):          9.81e-147\n",
       "Time:                        17:12:11   Log-Likelihood:                -2027.2\n",
       "No. Observations:                 550   AIC:                             4062.\n",
       "Df Residuals:                     546   BIC:                             4080.\n",
       "Df Model:                           3                                         \n",
       "Covariance Type:            nonrobust                                         \n",
       "==============================================================================\n",
       "                 coef    std err          t      P>|t|      [0.025      0.975]\n",
       "------------------------------------------------------------------------------\n",
       "intercept     76.4727      0.754    101.430      0.000      74.992      77.954\n",
       "Primary      -35.2035      1.213    -29.033      0.000     -37.585     -32.822\n",
       "Secondary    -15.3268      1.037    -14.780      0.000     -17.364     -13.290\n",
       "Tertiary       9.9544      1.243      8.007      0.000       7.512      12.396\n",
       "==============================================================================\n",
       "Omnibus:                       61.560   Durbin-Watson:                   1.878\n",
       "Prob(Omnibus):                  0.000   Jarque-Bera (JB):               31.861\n",
       "Skew:                          -0.427   Prob(JB):                     1.21e-07\n",
       "Kurtosis:                       2.187   Cond. No.                         4.53\n",
       "==============================================================================\n",
       "\n",
       "Warnings:\n",
       "[1] Standard Errors assume that the covariance matrix of the errors is correctly specified.\n",
       "\"\"\""
      ]
     },
     "execution_count": 48,
     "metadata": {},
     "output_type": "execute_result"
    }
   ],
   "source": [
    "# Second, we take Numeracy\n",
    "linear_reg = sm.OLS(df['Numeracy'], df[['intercept', 'Primary', 'Secondary', 'Tertiary']])\n",
    "results = linear_reg.fit()\n",
    "results.summary()"
   ]
  },
  {
   "cell_type": "code",
   "execution_count": 52,
   "metadata": {},
   "outputs": [
    {
     "data": {
      "text/html": [
       "<table class=\"simpletable\">\n",
       "<caption>OLS Regression Results</caption>\n",
       "<tr>\n",
       "  <th>Dep. Variable:</th>        <td>Literacy</td>     <th>  R-squared:         </th> <td>   0.814</td> \n",
       "</tr>\n",
       "<tr>\n",
       "  <th>Model:</th>                   <td>OLS</td>       <th>  Adj. R-squared:    </th> <td>   0.808</td> \n",
       "</tr>\n",
       "<tr>\n",
       "  <th>Method:</th>             <td>Least Squares</td>  <th>  F-statistic:       </th> <td>   136.6</td> \n",
       "</tr>\n",
       "<tr>\n",
       "  <th>Date:</th>             <td>Tue, 18 Aug 2020</td> <th>  Prob (F-statistic):</th> <td>2.43e-181</td>\n",
       "</tr>\n",
       "<tr>\n",
       "  <th>Time:</th>                 <td>17:22:41</td>     <th>  Log-Likelihood:    </th> <td> -1902.3</td> \n",
       "</tr>\n",
       "<tr>\n",
       "  <th>No. Observations:</th>      <td>   550</td>      <th>  AIC:               </th> <td>   3841.</td> \n",
       "</tr>\n",
       "<tr>\n",
       "  <th>Df Residuals:</th>          <td>   532</td>      <th>  BIC:               </th> <td>   3918.</td> \n",
       "</tr>\n",
       "<tr>\n",
       "  <th>Df Model:</th>              <td>    17</td>      <th>                     </th>     <td> </td>    \n",
       "</tr>\n",
       "<tr>\n",
       "  <th>Covariance Type:</th>      <td>nonrobust</td>    <th>                     </th>     <td> </td>    \n",
       "</tr>\n",
       "</table>\n",
       "<table class=\"simpletable\">\n",
       "<tr>\n",
       "          <td></td>            <th>coef</th>     <th>std err</th>      <th>t</th>      <th>P>|t|</th>  <th>[0.025</th>    <th>0.975]</th>  \n",
       "</tr>\n",
       "<tr>\n",
       "  <th>intercept</th>        <td>   97.4155</td> <td>    5.572</td> <td>   17.483</td> <td> 0.000</td> <td>   86.470</td> <td>  108.361</td>\n",
       "</tr>\n",
       "<tr>\n",
       "  <th>HHhead age</th>       <td>   -0.3596</td> <td>    0.067</td> <td>   -5.364</td> <td> 0.000</td> <td>   -0.491</td> <td>   -0.228</td>\n",
       "</tr>\n",
       "<tr>\n",
       "  <th>Age</th>              <td>    0.4347</td> <td>    0.280</td> <td>    1.552</td> <td> 0.121</td> <td>   -0.115</td> <td>    0.985</td>\n",
       "</tr>\n",
       "<tr>\n",
       "  <th>Household_size</th>   <td>   -1.1676</td> <td>    0.130</td> <td>   -8.949</td> <td> 0.000</td> <td>   -1.424</td> <td>   -0.911</td>\n",
       "</tr>\n",
       "<tr>\n",
       "  <th>F</th>                <td>  -10.6595</td> <td>    1.367</td> <td>   -7.798</td> <td> 0.000</td> <td>  -13.345</td> <td>   -7.974</td>\n",
       "</tr>\n",
       "<tr>\n",
       "  <th>Islam</th>            <td>   -3.2166</td> <td>    1.269</td> <td>   -2.535</td> <td> 0.012</td> <td>   -5.709</td> <td>   -0.724</td>\n",
       "</tr>\n",
       "<tr>\n",
       "  <th>Guardian</th>         <td>   -2.6230</td> <td>    1.035</td> <td>   -2.534</td> <td> 0.012</td> <td>   -4.657</td> <td>   -0.589</td>\n",
       "</tr>\n",
       "<tr>\n",
       "  <th>Footballing</th>      <td>  -10.9005</td> <td>    2.507</td> <td>   -4.348</td> <td> 0.000</td> <td>  -15.825</td> <td>   -5.976</td>\n",
       "</tr>\n",
       "<tr>\n",
       "  <th>Singing</th>          <td>  -25.2984</td> <td>    2.541</td> <td>   -9.954</td> <td> 0.000</td> <td>  -30.291</td> <td>  -20.306</td>\n",
       "</tr>\n",
       "<tr>\n",
       "  <th>Movies</th>           <td>   -3.0724</td> <td>    2.442</td> <td>   -1.258</td> <td> 0.209</td> <td>   -7.869</td> <td>    1.724</td>\n",
       "</tr>\n",
       "<tr>\n",
       "  <th>Dancing</th>          <td>  -17.6540</td> <td>    2.250</td> <td>   -7.847</td> <td> 0.000</td> <td>  -22.073</td> <td>  -13.235</td>\n",
       "</tr>\n",
       "<tr>\n",
       "  <th>Artisan</th>          <td>   10.3077</td> <td>    1.225</td> <td>    8.413</td> <td> 0.000</td> <td>    7.901</td> <td>   12.715</td>\n",
       "</tr>\n",
       "<tr>\n",
       "  <th>Civil Servant</th>    <td>    4.4273</td> <td>    2.116</td> <td>    2.093</td> <td> 0.037</td> <td>    0.271</td> <td>    8.583</td>\n",
       "</tr>\n",
       "<tr>\n",
       "  <th>Trader</th>           <td>    0.2784</td> <td>    2.968</td> <td>    0.094</td> <td> 0.925</td> <td>   -5.553</td> <td>    6.109</td>\n",
       "</tr>\n",
       "<tr>\n",
       "  <th>Private Employee</th> <td>   -1.5993</td> <td>    2.393</td> <td>   -0.668</td> <td> 0.504</td> <td>   -6.300</td> <td>    3.102</td>\n",
       "</tr>\n",
       "<tr>\n",
       "  <th>Secondary</th>        <td>    9.0951</td> <td>    1.743</td> <td>    5.217</td> <td> 0.000</td> <td>    5.671</td> <td>   12.520</td>\n",
       "</tr>\n",
       "<tr>\n",
       "  <th>Primary</th>          <td>   -7.3062</td> <td>    2.351</td> <td>   -3.107</td> <td> 0.002</td> <td>  -11.926</td> <td>   -2.687</td>\n",
       "</tr>\n",
       "<tr>\n",
       "  <th>Tertiary</th>         <td>    2.2752</td> <td>    1.241</td> <td>    1.833</td> <td> 0.067</td> <td>   -0.164</td> <td>    4.714</td>\n",
       "</tr>\n",
       "</table>\n",
       "<table class=\"simpletable\">\n",
       "<tr>\n",
       "  <th>Omnibus:</th>       <td>21.902</td> <th>  Durbin-Watson:     </th> <td>   1.973</td>\n",
       "</tr>\n",
       "<tr>\n",
       "  <th>Prob(Omnibus):</th> <td> 0.000</td> <th>  Jarque-Bera (JB):  </th> <td>  34.711</td>\n",
       "</tr>\n",
       "<tr>\n",
       "  <th>Skew:</th>          <td> 0.306</td> <th>  Prob(JB):          </th> <td>2.90e-08</td>\n",
       "</tr>\n",
       "<tr>\n",
       "  <th>Kurtosis:</th>      <td> 4.068</td> <th>  Cond. No.          </th> <td>1.08e+03</td>\n",
       "</tr>\n",
       "</table><br/><br/>Warnings:<br/>[1] Standard Errors assume that the covariance matrix of the errors is correctly specified.<br/>[2] The condition number is large, 1.08e+03. This might indicate that there are<br/>strong multicollinearity or other numerical problems."
      ],
      "text/plain": [
       "<class 'statsmodels.iolib.summary.Summary'>\n",
       "\"\"\"\n",
       "                            OLS Regression Results                            \n",
       "==============================================================================\n",
       "Dep. Variable:               Literacy   R-squared:                       0.814\n",
       "Model:                            OLS   Adj. R-squared:                  0.808\n",
       "Method:                 Least Squares   F-statistic:                     136.6\n",
       "Date:                Tue, 18 Aug 2020   Prob (F-statistic):          2.43e-181\n",
       "Time:                        17:22:41   Log-Likelihood:                -1902.3\n",
       "No. Observations:                 550   AIC:                             3841.\n",
       "Df Residuals:                     532   BIC:                             3918.\n",
       "Df Model:                          17                                         \n",
       "Covariance Type:            nonrobust                                         \n",
       "====================================================================================\n",
       "                       coef    std err          t      P>|t|      [0.025      0.975]\n",
       "------------------------------------------------------------------------------------\n",
       "intercept           97.4155      5.572     17.483      0.000      86.470     108.361\n",
       "HHhead age          -0.3596      0.067     -5.364      0.000      -0.491      -0.228\n",
       "Age                  0.4347      0.280      1.552      0.121      -0.115       0.985\n",
       "Household_size      -1.1676      0.130     -8.949      0.000      -1.424      -0.911\n",
       "F                  -10.6595      1.367     -7.798      0.000     -13.345      -7.974\n",
       "Islam               -3.2166      1.269     -2.535      0.012      -5.709      -0.724\n",
       "Guardian            -2.6230      1.035     -2.534      0.012      -4.657      -0.589\n",
       "Footballing        -10.9005      2.507     -4.348      0.000     -15.825      -5.976\n",
       "Singing            -25.2984      2.541     -9.954      0.000     -30.291     -20.306\n",
       "Movies              -3.0724      2.442     -1.258      0.209      -7.869       1.724\n",
       "Dancing            -17.6540      2.250     -7.847      0.000     -22.073     -13.235\n",
       "Artisan             10.3077      1.225      8.413      0.000       7.901      12.715\n",
       "Civil Servant        4.4273      2.116      2.093      0.037       0.271       8.583\n",
       "Trader               0.2784      2.968      0.094      0.925      -5.553       6.109\n",
       "Private Employee    -1.5993      2.393     -0.668      0.504      -6.300       3.102\n",
       "Secondary            9.0951      1.743      5.217      0.000       5.671      12.520\n",
       "Primary             -7.3062      2.351     -3.107      0.002     -11.926      -2.687\n",
       "Tertiary             2.2752      1.241      1.833      0.067      -0.164       4.714\n",
       "==============================================================================\n",
       "Omnibus:                       21.902   Durbin-Watson:                   1.973\n",
       "Prob(Omnibus):                  0.000   Jarque-Bera (JB):               34.711\n",
       "Skew:                           0.306   Prob(JB):                     2.90e-08\n",
       "Kurtosis:                       4.068   Cond. No.                     1.08e+03\n",
       "==============================================================================\n",
       "\n",
       "Warnings:\n",
       "[1] Standard Errors assume that the covariance matrix of the errors is correctly specified.\n",
       "[2] The condition number is large, 1.08e+03. This might indicate that there are\n",
       "strong multicollinearity or other numerical problems.\n",
       "\"\"\""
      ]
     },
     "execution_count": 52,
     "metadata": {},
     "output_type": "execute_result"
    }
   ],
   "source": [
    "# Regression of paplin on pupils' socio-educational characteristics using Male, Christianity,Parent, \n",
    "# Reading, Petty Trader and No_formal as the respective bases\n",
    "# First we take Literacy\n",
    "linear_reg = sm.OLS(df['Literacy'], df[['intercept', 'HHhead age', 'Age',\n",
    "          'Household_size',\n",
    "         'F', 'Islam',\n",
    "        'Guardian',  'Footballing', 'Singing', 'Movies',\n",
    "       'Dancing', 'Artisan', 'Civil Servant', 'Trader',\n",
    "       'Private Employee', 'Secondary', 'Primary', 'Tertiary']])\n",
    "results = linear_reg.fit()\n",
    "results.summary()"
   ]
  },
  {
   "cell_type": "code",
   "execution_count": 53,
   "metadata": {},
   "outputs": [
    {
     "data": {
      "text/html": [
       "<table class=\"simpletable\">\n",
       "<caption>OLS Regression Results</caption>\n",
       "<tr>\n",
       "  <th>Dep. Variable:</th>        <td>Numeracy</td>     <th>  R-squared:         </th> <td>   0.910</td> \n",
       "</tr>\n",
       "<tr>\n",
       "  <th>Model:</th>                   <td>OLS</td>       <th>  Adj. R-squared:    </th> <td>   0.908</td> \n",
       "</tr>\n",
       "<tr>\n",
       "  <th>Method:</th>             <td>Least Squares</td>  <th>  F-statistic:       </th> <td>   318.3</td> \n",
       "</tr>\n",
       "<tr>\n",
       "  <th>Date:</th>             <td>Tue, 18 Aug 2020</td> <th>  Prob (F-statistic):</th> <td>9.76e-266</td>\n",
       "</tr>\n",
       "<tr>\n",
       "  <th>Time:</th>                 <td>17:23:44</td>     <th>  Log-Likelihood:    </th> <td> -1705.0</td> \n",
       "</tr>\n",
       "<tr>\n",
       "  <th>No. Observations:</th>      <td>   550</td>      <th>  AIC:               </th> <td>   3446.</td> \n",
       "</tr>\n",
       "<tr>\n",
       "  <th>Df Residuals:</th>          <td>   532</td>      <th>  BIC:               </th> <td>   3524.</td> \n",
       "</tr>\n",
       "<tr>\n",
       "  <th>Df Model:</th>              <td>    17</td>      <th>                     </th>     <td> </td>    \n",
       "</tr>\n",
       "<tr>\n",
       "  <th>Covariance Type:</th>      <td>nonrobust</td>    <th>                     </th>     <td> </td>    \n",
       "</tr>\n",
       "</table>\n",
       "<table class=\"simpletable\">\n",
       "<tr>\n",
       "          <td></td>            <th>coef</th>     <th>std err</th>      <th>t</th>      <th>P>|t|</th>  <th>[0.025</th>    <th>0.975]</th>  \n",
       "</tr>\n",
       "<tr>\n",
       "  <th>intercept</th>        <td>  109.8945</td> <td>    3.892</td> <td>   28.236</td> <td> 0.000</td> <td>  102.249</td> <td>  117.540</td>\n",
       "</tr>\n",
       "<tr>\n",
       "  <th>HHhead age</th>       <td>   -0.3718</td> <td>    0.047</td> <td>   -7.939</td> <td> 0.000</td> <td>   -0.464</td> <td>   -0.280</td>\n",
       "</tr>\n",
       "<tr>\n",
       "  <th>Age</th>              <td>   -1.3748</td> <td>    0.196</td> <td>   -7.027</td> <td> 0.000</td> <td>   -1.759</td> <td>   -0.990</td>\n",
       "</tr>\n",
       "<tr>\n",
       "  <th>Household_size</th>   <td>   -1.8610</td> <td>    0.091</td> <td>  -20.421</td> <td> 0.000</td> <td>   -2.040</td> <td>   -1.682</td>\n",
       "</tr>\n",
       "<tr>\n",
       "  <th>F</th>                <td>   -6.3580</td> <td>    0.955</td> <td>   -6.659</td> <td> 0.000</td> <td>   -8.234</td> <td>   -4.482</td>\n",
       "</tr>\n",
       "<tr>\n",
       "  <th>Islam</th>            <td>    6.8892</td> <td>    0.886</td> <td>    7.773</td> <td> 0.000</td> <td>    5.148</td> <td>    8.630</td>\n",
       "</tr>\n",
       "<tr>\n",
       "  <th>Guardian</th>         <td>   -2.4890</td> <td>    0.723</td> <td>   -3.442</td> <td> 0.001</td> <td>   -3.909</td> <td>   -1.069</td>\n",
       "</tr>\n",
       "<tr>\n",
       "  <th>Footballing</th>      <td>    8.4751</td> <td>    1.751</td> <td>    4.840</td> <td> 0.000</td> <td>    5.035</td> <td>   11.915</td>\n",
       "</tr>\n",
       "<tr>\n",
       "  <th>Singing</th>          <td>   11.1529</td> <td>    1.775</td> <td>    6.283</td> <td> 0.000</td> <td>    7.666</td> <td>   14.640</td>\n",
       "</tr>\n",
       "<tr>\n",
       "  <th>Movies</th>           <td>   22.8377</td> <td>    1.705</td> <td>   13.391</td> <td> 0.000</td> <td>   19.488</td> <td>   26.188</td>\n",
       "</tr>\n",
       "<tr>\n",
       "  <th>Dancing</th>          <td>   11.3573</td> <td>    1.571</td> <td>    7.227</td> <td> 0.000</td> <td>    8.270</td> <td>   14.444</td>\n",
       "</tr>\n",
       "<tr>\n",
       "  <th>Artisan</th>          <td>   -4.5476</td> <td>    0.856</td> <td>   -5.314</td> <td> 0.000</td> <td>   -6.229</td> <td>   -2.866</td>\n",
       "</tr>\n",
       "<tr>\n",
       "  <th>Civil Servant</th>    <td>   -9.3479</td> <td>    1.478</td> <td>   -6.325</td> <td> 0.000</td> <td>  -12.251</td> <td>   -6.445</td>\n",
       "</tr>\n",
       "<tr>\n",
       "  <th>Trader</th>           <td>   -0.1773</td> <td>    2.073</td> <td>   -0.085</td> <td> 0.932</td> <td>   -4.250</td> <td>    3.896</td>\n",
       "</tr>\n",
       "<tr>\n",
       "  <th>Private Employee</th> <td>   -9.2710</td> <td>    1.672</td> <td>   -5.546</td> <td> 0.000</td> <td>  -12.555</td> <td>   -5.987</td>\n",
       "</tr>\n",
       "<tr>\n",
       "  <th>Secondary</th>        <td>    0.0546</td> <td>    1.218</td> <td>    0.045</td> <td> 0.964</td> <td>   -2.337</td> <td>    2.447</td>\n",
       "</tr>\n",
       "<tr>\n",
       "  <th>Primary</th>          <td>   -3.1230</td> <td>    1.642</td> <td>   -1.901</td> <td> 0.058</td> <td>   -6.350</td> <td>    0.104</td>\n",
       "</tr>\n",
       "<tr>\n",
       "  <th>Tertiary</th>         <td>    7.0669</td> <td>    0.867</td> <td>    8.150</td> <td> 0.000</td> <td>    5.363</td> <td>    8.770</td>\n",
       "</tr>\n",
       "</table>\n",
       "<table class=\"simpletable\">\n",
       "<tr>\n",
       "  <th>Omnibus:</th>       <td>50.448</td> <th>  Durbin-Watson:     </th> <td>   1.994</td>\n",
       "</tr>\n",
       "<tr>\n",
       "  <th>Prob(Omnibus):</th> <td> 0.000</td> <th>  Jarque-Bera (JB):  </th> <td>  36.184</td>\n",
       "</tr>\n",
       "<tr>\n",
       "  <th>Skew:</th>          <td> 0.519</td> <th>  Prob(JB):          </th> <td>1.39e-08</td>\n",
       "</tr>\n",
       "<tr>\n",
       "  <th>Kurtosis:</th>      <td> 2.293</td> <th>  Cond. No.          </th> <td>1.08e+03</td>\n",
       "</tr>\n",
       "</table><br/><br/>Warnings:<br/>[1] Standard Errors assume that the covariance matrix of the errors is correctly specified.<br/>[2] The condition number is large, 1.08e+03. This might indicate that there are<br/>strong multicollinearity or other numerical problems."
      ],
      "text/plain": [
       "<class 'statsmodels.iolib.summary.Summary'>\n",
       "\"\"\"\n",
       "                            OLS Regression Results                            \n",
       "==============================================================================\n",
       "Dep. Variable:               Numeracy   R-squared:                       0.910\n",
       "Model:                            OLS   Adj. R-squared:                  0.908\n",
       "Method:                 Least Squares   F-statistic:                     318.3\n",
       "Date:                Tue, 18 Aug 2020   Prob (F-statistic):          9.76e-266\n",
       "Time:                        17:23:44   Log-Likelihood:                -1705.0\n",
       "No. Observations:                 550   AIC:                             3446.\n",
       "Df Residuals:                     532   BIC:                             3524.\n",
       "Df Model:                          17                                         \n",
       "Covariance Type:            nonrobust                                         \n",
       "====================================================================================\n",
       "                       coef    std err          t      P>|t|      [0.025      0.975]\n",
       "------------------------------------------------------------------------------------\n",
       "intercept          109.8945      3.892     28.236      0.000     102.249     117.540\n",
       "HHhead age          -0.3718      0.047     -7.939      0.000      -0.464      -0.280\n",
       "Age                 -1.3748      0.196     -7.027      0.000      -1.759      -0.990\n",
       "Household_size      -1.8610      0.091    -20.421      0.000      -2.040      -1.682\n",
       "F                   -6.3580      0.955     -6.659      0.000      -8.234      -4.482\n",
       "Islam                6.8892      0.886      7.773      0.000       5.148       8.630\n",
       "Guardian            -2.4890      0.723     -3.442      0.001      -3.909      -1.069\n",
       "Footballing          8.4751      1.751      4.840      0.000       5.035      11.915\n",
       "Singing             11.1529      1.775      6.283      0.000       7.666      14.640\n",
       "Movies              22.8377      1.705     13.391      0.000      19.488      26.188\n",
       "Dancing             11.3573      1.571      7.227      0.000       8.270      14.444\n",
       "Artisan             -4.5476      0.856     -5.314      0.000      -6.229      -2.866\n",
       "Civil Servant       -9.3479      1.478     -6.325      0.000     -12.251      -6.445\n",
       "Trader              -0.1773      2.073     -0.085      0.932      -4.250       3.896\n",
       "Private Employee    -9.2710      1.672     -5.546      0.000     -12.555      -5.987\n",
       "Secondary            0.0546      1.218      0.045      0.964      -2.337       2.447\n",
       "Primary             -3.1230      1.642     -1.901      0.058      -6.350       0.104\n",
       "Tertiary             7.0669      0.867      8.150      0.000       5.363       8.770\n",
       "==============================================================================\n",
       "Omnibus:                       50.448   Durbin-Watson:                   1.994\n",
       "Prob(Omnibus):                  0.000   Jarque-Bera (JB):               36.184\n",
       "Skew:                           0.519   Prob(JB):                     1.39e-08\n",
       "Kurtosis:                       2.293   Cond. No.                     1.08e+03\n",
       "==============================================================================\n",
       "\n",
       "Warnings:\n",
       "[1] Standard Errors assume that the covariance matrix of the errors is correctly specified.\n",
       "[2] The condition number is large, 1.08e+03. This might indicate that there are\n",
       "strong multicollinearity or other numerical problems.\n",
       "\"\"\""
      ]
     },
     "execution_count": 53,
     "metadata": {},
     "output_type": "execute_result"
    }
   ],
   "source": [
    "# Second, we take Numeracy\n",
    "linear_reg = sm.OLS(df['Numeracy'], df[['intercept', 'HHhead age', 'Age',\n",
    "          'Household_size',\n",
    "         'F', 'Islam',\n",
    "        'Guardian',  'Footballing', 'Singing', 'Movies',\n",
    "       'Dancing', 'Artisan', 'Civil Servant', 'Trader',\n",
    "       'Private Employee', 'Secondary', 'Primary', 'Tertiary']])\n",
    "results = linear_reg.fit()\n",
    "results.summary()"
   ]
  }
 ],
 "metadata": {
  "kernelspec": {
   "display_name": "Python 3",
   "language": "python",
   "name": "python3"
  },
  "language_info": {
   "codemirror_mode": {
    "name": "ipython",
    "version": 3
   },
   "file_extension": ".py",
   "mimetype": "text/x-python",
   "name": "python",
   "nbconvert_exporter": "python",
   "pygments_lexer": "ipython3",
   "version": "3.7.6"
  }
 },
 "nbformat": 4,
 "nbformat_minor": 4
}
